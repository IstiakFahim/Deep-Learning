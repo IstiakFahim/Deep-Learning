{
 "cells": [
  {
   "cell_type": "markdown",
   "metadata": {},
   "source": [
    "# Deep Learning 2024 - Assignment 1\n",
    "\n",
    "Designed by Marko Savic (marko.savic@oulu.fi)\n",
    "\n"
   ]
  },
  {
   "cell_type": "markdown",
   "metadata": {},
   "source": [
    "## Outline (10 points)\n",
    "#### Submission:\n",
    "We will give 2 weeks for each assignment and more for the final project.\n",
    "\n",
    "The grades will be released after the deadline. Please also put your name and student number (if you have one) in the file name of the returned assignments. (DL2024_assign1_NAME_SURNAME_STUDENTNUMBER.ipynb)\n",
    "\n",
    "#### In this assignment, you will learn:\n",
    "* How to load data and create a train/test split\n",
    "* How to build your own Pytorch model for simple linear regression problem on the generated data.\n",
    "* Training the model with gradient descent algorithm in Pytorch.\n",
    "* Simple visualisation of data, loss and linear model\n",
    "\n",
    "#### Tasks (10 points):\n",
    "* Part 1. Load dataset and split into training and testing sets (1.5 points)\n",
    "* Part 2.1 Model (1.5 points)\n",
    "* Part 2.2 Training (7 points)\n",
    "\n",
    "#### Environment\n",
    "Python 3 + Pytorch (>=1.3).<br>\n",
    "Other libraries should be installed correctly such as numpy, matplotlib, *etc*., according to the dependencies of the assignment. <br>\n",
    "If you haven’t installed Pytorch and Jupyter notebook in your computer, an alternative environment to finish the assignment is CSC notebook: [`https://noppe.2.rahtiapp.fi/`](https://noppe.2.rahtiapp.fi/) -> log in with HaKa using your university account -> Jupyter Machine Learning. \n",
    "Also, googlecolab is available through your google university account (instruction in https://www.oulu.fi/en/for-students/supporting-your-studies-and-contact-information-for-students/it-services-for-students/google-workspace-for-education). Computer room TS135 contains computers with GPUs that you can utilise as well.\n",
    "\n",
    "We will give 2 weeks for each assignment and more for the final project. So it may happen where the new assignment is published before the deadline of the previous assignment. Please do not wait till the last minute to complete the assigments, as they can be time consuming. \n",
    "\n",
    "#### Database\n",
    "* Advertising dataset\n",
    "\n",
    "#### Hints\n",
    "* To find the place where you have to insert your solution, hit Crtl + F and search for **TODO:** . You are not supposed to modify the code from other parts.\n",
    "* Be careful with the shape of the weights, gradient, .. of your tensor in your implementation. Double check and make sure the shapes fit for computation, especially matrix multiplication.\n",
    "* Use only torch functions for the model, and avoid iterations. E.g. if you put a for cycle in the model function then parallelism is gone and your model will not run efficiently on GPUs. Also once you have the data loaded as tensors, you need to use torch functions, if you convert to numpy arrays in the training loop then it will not train efficiently.\n",
    "* Check the examples from the pytorch tutorial lecture, they can help understand the assignment better."
   ]
  },
  {
   "cell_type": "markdown",
   "metadata": {},
   "source": [
    "## Part 1. Load dataset and split into training and testing sets \n",
    "\n",
    "Suppose we observe a set of n real-valued input variables x = $\\{x_n\\}$ and wish to use this observation to predict \n",
    "the value of a real-valued target variable $y$. In the tutorial we considered artifical examples with synthetic data. In this exercise we will consider a simple dataset that is suitable for linear regression. \n",
    "\n",
    "We will take a small advertisement dataset. It contains data on the budget allocated for TV, radio and newspaper advertisements with the resulting sales. It contains n = 200 samples with three variables \"TV\", \"Radio\",\"Newspaper\" and the value we want to predict, that is \"Sales\". Assuming a linear model is a good representation of the correlation between advertisement budgets and final sales, we will try to train a linear model to regress the sales based on advertisement budget.\n",
    "\n",
    "The dataset is located in the advertisement .csv file and opened as a pandas Dataframe. Firstly we will turn the input variables and regression target into Tensors, and then split the data into training and testing sets. In this case we choose a five fold split, meaning we will use 20% of the data for testing (last 40 samples) and 80% for training (first 160 samples).\n",
    "\n",
    "Please create the required training and testing data below and plot the relationship between the feature 'TV' and the target. Since we have 3 different features, we will only pick 'TV' a 2D plot."
   ]
  },
  {
   "cell_type": "code",
   "execution_count": 1,
   "metadata": {},
   "outputs": [
    {
     "name": "stdout",
     "output_type": "stream",
     "text": [
      "Collecting onedrivedownloader\n",
      "  Downloading onedrivedownloader-1.1.3-py3-none-any.whl (5.1 kB)\n",
      "Requirement already satisfied: requests in c:\\users\\fahim\\anaconda3\\lib\\site-packages (from onedrivedownloader) (2.26.0)\n",
      "Requirement already satisfied: tqdm in c:\\users\\fahim\\anaconda3\\lib\\site-packages (from onedrivedownloader) (4.62.2)\n",
      "Requirement already satisfied: certifi>=2017.4.17 in c:\\users\\fahim\\anaconda3\\lib\\site-packages (from requests->onedrivedownloader) (2022.6.15.1)\n",
      "Requirement already satisfied: urllib3<1.27,>=1.21.1 in c:\\users\\fahim\\anaconda3\\lib\\site-packages (from requests->onedrivedownloader) (1.26.7)\n",
      "Requirement already satisfied: charset-normalizer~=2.0.0 in c:\\users\\fahim\\anaconda3\\lib\\site-packages (from requests->onedrivedownloader) (2.0.4)\n",
      "Requirement already satisfied: idna<4,>=2.5 in c:\\users\\fahim\\anaconda3\\lib\\site-packages (from requests->onedrivedownloader) (3.3)\n",
      "Requirement already satisfied: colorama in c:\\users\\fahim\\anaconda3\\lib\\site-packages (from tqdm->onedrivedownloader) (0.4.4)\n",
      "Installing collected packages: onedrivedownloader\n",
      "Successfully installed onedrivedownloader-1.1.3\n"
     ]
    },
    {
     "name": "stderr",
     "output_type": "stream",
     "text": [
      "100%|████████████████████████████████████████████████████████████████████████████| 4.06k/4.06k [00:00<00:00, 2.04MiB/s]\n"
     ]
    },
    {
     "data": {
      "text/plain": [
       "'./advertising.csv'"
      ]
     },
     "execution_count": 1,
     "metadata": {},
     "output_type": "execute_result"
    }
   ],
   "source": [
    "!pip install onedrivedownloader\n",
    "\n",
    "from onedrivedownloader import download\n",
    "import os\n",
    "link = 'https://unioulu-my.sharepoint.com/:x:/g/personal/msavic21_univ_yo_oulu_fi/Eb211jNyQAVIhTq1HsoxQyEBEqoDNHhr606Kfh9LY5Brjw?e=cONlaG'\n",
    "\n",
    "#if not os.path.exists('./data/fashion_mnist_npy'):\n",
    "#    print('Downloading dataset')\n",
    "download(link, filename=\"./advertising.csv\", unzip=True, unzip_path='./')"
   ]
  },
  {
   "cell_type": "code",
   "execution_count": 2,
   "metadata": {},
   "outputs": [
    {
     "data": {
      "text/html": [
       "<div>\n",
       "<style scoped>\n",
       "    .dataframe tbody tr th:only-of-type {\n",
       "        vertical-align: middle;\n",
       "    }\n",
       "\n",
       "    .dataframe tbody tr th {\n",
       "        vertical-align: top;\n",
       "    }\n",
       "\n",
       "    .dataframe thead th {\n",
       "        text-align: right;\n",
       "    }\n",
       "</style>\n",
       "<table border=\"1\" class=\"dataframe\">\n",
       "  <thead>\n",
       "    <tr style=\"text-align: right;\">\n",
       "      <th></th>\n",
       "      <th>TV</th>\n",
       "      <th>Radio</th>\n",
       "      <th>Newspaper</th>\n",
       "      <th>Sales</th>\n",
       "    </tr>\n",
       "  </thead>\n",
       "  <tbody>\n",
       "    <tr>\n",
       "      <th>0</th>\n",
       "      <td>230.1</td>\n",
       "      <td>37.8</td>\n",
       "      <td>69.2</td>\n",
       "      <td>22.1</td>\n",
       "    </tr>\n",
       "    <tr>\n",
       "      <th>1</th>\n",
       "      <td>44.5</td>\n",
       "      <td>39.3</td>\n",
       "      <td>45.1</td>\n",
       "      <td>10.4</td>\n",
       "    </tr>\n",
       "    <tr>\n",
       "      <th>2</th>\n",
       "      <td>17.2</td>\n",
       "      <td>45.9</td>\n",
       "      <td>69.3</td>\n",
       "      <td>12.0</td>\n",
       "    </tr>\n",
       "    <tr>\n",
       "      <th>3</th>\n",
       "      <td>151.5</td>\n",
       "      <td>41.3</td>\n",
       "      <td>58.5</td>\n",
       "      <td>16.5</td>\n",
       "    </tr>\n",
       "    <tr>\n",
       "      <th>4</th>\n",
       "      <td>180.8</td>\n",
       "      <td>10.8</td>\n",
       "      <td>58.4</td>\n",
       "      <td>17.9</td>\n",
       "    </tr>\n",
       "  </tbody>\n",
       "</table>\n",
       "</div>"
      ],
      "text/plain": [
       "      TV  Radio  Newspaper  Sales\n",
       "0  230.1   37.8       69.2   22.1\n",
       "1   44.5   39.3       45.1   10.4\n",
       "2   17.2   45.9       69.3   12.0\n",
       "3  151.5   41.3       58.5   16.5\n",
       "4  180.8   10.8       58.4   17.9"
      ]
     },
     "execution_count": 2,
     "metadata": {},
     "output_type": "execute_result"
    }
   ],
   "source": [
    "import matplotlib.pyplot as plt\n",
    "import torch.nn as nn\n",
    "import torch\n",
    "import numpy as np\n",
    "import pandas as pd \n",
    "\n",
    "adv_dataset=pd.read_csv('./advertising.csv')\n",
    "adv_dataset.head()"
   ]
  },
  {
   "cell_type": "code",
   "execution_count": 4,
   "metadata": {},
   "outputs": [],
   "source": [
    "from sklearn.model_selection import train_test_split"
   ]
  },
  {
   "cell_type": "code",
   "execution_count": 11,
   "metadata": {},
   "outputs": [
    {
     "name": "stdout",
     "output_type": "stream",
     "text": [
      "torch.Size([200, 3]) torch.Size([200, 1])\n",
      "torch.Size([160, 3]) torch.Size([160, 1])\n",
      "torch.Size([40, 3]) torch.Size([40, 1])\n"
     ]
    },
    {
     "name": "stderr",
     "output_type": "stream",
     "text": [
      "C:\\Users\\fahim\\AppData\\Local\\Temp/ipykernel_2176/45274510.py:17: UserWarning: To copy construct from a tensor, it is recommended to use sourceTensor.clone().detach() or sourceTensor.clone().detach().requires_grad_(True), rather than torch.tensor(sourceTensor).\n",
      "  x_train = torch.tensor(x_train, dtype=torch.float32)\n",
      "C:\\Users\\fahim\\AppData\\Local\\Temp/ipykernel_2176/45274510.py:18: UserWarning: To copy construct from a tensor, it is recommended to use sourceTensor.clone().detach() or sourceTensor.clone().detach().requires_grad_(True), rather than torch.tensor(sourceTensor).\n",
      "  x_test = torch.tensor(x_test, dtype=torch.float32)\n",
      "C:\\Users\\fahim\\AppData\\Local\\Temp/ipykernel_2176/45274510.py:19: UserWarning: To copy construct from a tensor, it is recommended to use sourceTensor.clone().detach() or sourceTensor.clone().detach().requires_grad_(True), rather than torch.tensor(sourceTensor).\n",
      "  y_train = torch.tensor(y_train, dtype=torch.float32)\n",
      "C:\\Users\\fahim\\AppData\\Local\\Temp/ipykernel_2176/45274510.py:20: UserWarning: To copy construct from a tensor, it is recommended to use sourceTensor.clone().detach() or sourceTensor.clone().detach().requires_grad_(True), rather than torch.tensor(sourceTensor).\n",
      "  y_test = torch.tensor(y_test, dtype=torch.float32)\n"
     ]
    },
    {
     "data": {
      "image/png": "[encoded data removed]",
      "text/plain": [
       "<Figure size 720x432 with 1 Axes>"
      ]
     },
     "metadata": {
      "needs_background": "light"
     },
     "output_type": "display_data"
    }
   ],
   "source": [
    "# TODO: (1.5 points, details are given below): \n",
    "\n",
    "# get the relevant data from the adv_dataset dataframe and assign them to the Tensors x (feature variables) and y (target)  (0.5 point)\n",
    "# YOUR CODE HERE\n",
    "\n",
    "x = torch.tensor(adv_dataset[['TV', 'Radio', 'Newspaper']].values, dtype=torch.float32)\n",
    "y = torch.tensor(adv_dataset['Sales'].values, dtype=torch.float32).view(-1, 1)\n",
    "\n",
    "print(x.size(),y.size())\n",
    "\n",
    "# divide the data in a train set (80% of the data) and test set (20% of the data). Resulting in x_train, x_test, y_train, y_test (0.5 point)\n",
    "# YOUR CODE HERE\n",
    "\n",
    "x_train, x_test, y_train, y_test = train_test_split(x, y, test_size=0.2, random_state=48)\n",
    "\n",
    "\n",
    "x_train = torch.tensor(x_train, dtype=torch.float32)\n",
    "x_test = torch.tensor(x_test, dtype=torch.float32)\n",
    "y_train = torch.tensor(y_train, dtype=torch.float32)\n",
    "y_test = torch.tensor(y_test, dtype=torch.float32)\n",
    "\n",
    "\n",
    "\n",
    "print(x_train.size(),y_train.size())\n",
    "print(x_test.size(),y_test.size())\n",
    "\n",
    "\n",
    "# plot the first feature 'TV' in relationship with the target y. Train and test data should be in a single figure with two different colors (0.5 point)\n",
    "# YOUR CODE HERE\n",
    "\n",
    "\n",
    "plt.figure(figsize=(10, 6))\n",
    "plt.scatter(x_train[:, 0].numpy(), y_train.numpy(), color='blue')\n",
    "plt.scatter(x_test[:, 0].numpy(), y_test.numpy(), color='red')\n",
    "plt.show()"
   ]
  },
  {
   "cell_type": "markdown",
   "metadata": {},
   "source": [
    "## Part 2. Solving the linear regression problem in Pytorch using Gradient Descent Algorithm\n",
    "Congratulations you have prepared the data correctly! Now we will move onto creating our model and training it. "
   ]
  },
  {
   "cell_type": "markdown",
   "metadata": {},
   "source": [
    "### 2.1 Model\n",
    "In this part, you will define your own model class. To do that, you have to remember the following rules:\n",
    "1. The model class should be inherited from [`nn.Module`](https://pytorch.org/docs/stable/generated/torch.nn.Module.html#torch.nn.Module);\n",
    "2. Re-write the **\\_\\_init\\_\\_** function and the **forward** function;\n",
    "3. In the **\\_\\_init\\_\\_** function, you should always call the parent's **\\_\\_init\\_\\_** function first.\n",
    "4. Don't use the nn.Linear() layer, implement it yourself.\n",
    "5. Use 1 tensor to define w (not 3) and 1 tensor to define b.\n",
    "6. Only torch functions and no iterations inside the model.\n",
    "\n",
    "To make it simpler, since we are using a linear function to approximate the phenomenon that generated the data, our function will be:\n",
    "\n",
    "\\begin{align*}\n",
    "y = w^T x + b \n",
    "\\end{align*}\n",
    "\n",
    "Therefore, in the model, we need to set 2 parameters: $w$, $b$"
   ]
  },
  {
   "cell_type": "code",
   "execution_count": 12,
   "metadata": {},
   "outputs": [],
   "source": [
    "# TODO (1.5 points, details are given below)\n",
    "import torch.nn as nn\n",
    "\n",
    "\n",
    "# define a class (0.5) + write the __init__ function (0.5 point) + write the forward function (0.5 points)\n",
    "\n",
    "# YOUR CODE HERE\n",
    "\n",
    "class Model(nn.Module):\n",
    "    def __init__(self, input_features):\n",
    "        super(Model, self).__init__()\n",
    "\n",
    "        \n",
    "        self.w = nn.Parameter(torch.randn(input_features, 1, dtype=torch.float32))\n",
    "        self.b = nn.Parameter(torch.randn(1, dtype=torch.float32))  \n",
    "\n",
    "        \n",
    "    def forward(self, x):\n",
    "        return x @ self.w + self.b \n",
    "    \n",
    "    "
   ]
  },
  {
   "cell_type": "markdown",
   "metadata": {},
   "source": [
    "### 2.2 Training\n",
    "Here, you will train your model based on the training data and evaluate the model on testing data.\n",
    "1. Set proper number of iterations and learning rate.\n",
    "2. Remember to use a proper optimizer (you may have many choices: Adam, SGD, RMSprop, ... please find the detailed information in https://pytorch.org/docs/stable/optim.html and know how to use them).\n",
    "3. In order to train the model, a loss function should be defined:\n",
    "\\begin{align*}\n",
    "loss = \\frac{1}{N}\\sum_{i=1}^{N}|f_i - y_i|,\n",
    "\\end{align*}\n",
    "where, $f_i$ is the output of the model and $N$ is the number of training data pairs.\n",
    "4. The model must be trained only using training data.\n",
    "5. Remember to clear the old gradients of parameters before a new backward propagation.\n",
    "6. In every certain number of iterations, print the values of the parameters, the training loss, and the testing loss.\n",
    "7. Meanwhile, please track the training loss and the testing loss in each iteration. Once the training is done, the curves of losses should be plotted (two curves are drawn in the same figure, where x axis indicates iterations and y axis indicates the losses).\n",
    "8. Lastly, draw all the training data, testing data and the curve of the trained model in the same figure (use different showing styles to distinguish them)."
   ]
  },
  {
   "cell_type": "code",
   "execution_count": 28,
   "metadata": {},
   "outputs": [
    {
     "name": "stdout",
     "output_type": "stream",
     "text": [
      "Iteration: 0001 | Training loss: 103.794662 | Testing loss: 95.702225\n",
      "Iteration: 0101 | Training loss: 30.041798 | Testing loss: 22.448017\n",
      "Iteration: 0201 | Training loss: 25.335247 | Testing loss: 19.437273\n",
      "Iteration: 0301 | Training loss: 20.759291 | Testing loss: 16.288589\n",
      "Iteration: 0401 | Training loss: 16.552614 | Testing loss: 13.280131\n",
      "Iteration: 0501 | Training loss: 12.770804 | Testing loss: 10.705350\n",
      "Iteration: 0601 | Training loss: 9.877639 | Testing loss: 8.487192\n",
      "Iteration: 0701 | Training loss: 7.899082 | Testing loss: 7.002746\n",
      "Iteration: 0801 | Training loss: 6.331106 | Testing loss: 5.681619\n",
      "Iteration: 0901 | Training loss: 5.007161 | Testing loss: 4.593272\n",
      "Iteration: 1001 | Training loss: 3.859667 | Testing loss: 3.643075\n",
      "Iteration: 1101 | Training loss: 2.931464 | Testing loss: 2.822520\n",
      "Iteration: 1201 | Training loss: 2.312686 | Testing loss: 2.280597\n",
      "Iteration: 1301 | Training loss: 1.906321 | Testing loss: 1.922461\n",
      "Iteration: 1401 | Training loss: 1.662137 | Testing loss: 1.716195\n",
      "Iteration: 1501 | Training loss: 1.583869 | Testing loss: 1.647879\n",
      "Iteration: 1601 | Training loss: 1.559102 | Testing loss: 1.625737\n",
      "Iteration: 1701 | Training loss: 1.555017 | Testing loss: 1.613723\n",
      "Iteration: 1801 | Training loss: 1.552682 | Testing loss: 1.612605\n",
      "Iteration: 1901 | Training loss: 1.552764 | Testing loss: 1.610851\n",
      "Iteration: 2001 | Training loss: 1.552324 | Testing loss: 1.610069\n",
      "Iteration: 2101 | Training loss: 1.551218 | Testing loss: 1.610416\n",
      "Iteration: 2201 | Training loss: 1.552258 | Testing loss: 1.609374\n",
      "Iteration: 2301 | Training loss: 1.550552 | Testing loss: 1.609523\n",
      "Iteration: 2401 | Training loss: 1.551256 | Testing loss: 1.608388\n",
      "Iteration: 2501 | Training loss: 1.549886 | Testing loss: 1.608631\n",
      "Iteration: 2601 | Training loss: 1.550587 | Testing loss: 1.607496\n",
      "Iteration: 2701 | Training loss: 1.550387 | Testing loss: 1.607089\n",
      "Iteration: 2801 | Training loss: 1.548960 | Testing loss: 1.607316\n",
      "Iteration: 2901 | Training loss: 1.548995 | Testing loss: 1.605906\n",
      "Iteration: 3001 | Training loss: 1.548734 | Testing loss: 1.605440\n",
      "Iteration: 3101 | Training loss: 1.549099 | Testing loss: 1.605252\n",
      "Iteration: 3201 | Training loss: 1.549134 | Testing loss: 1.604926\n",
      "Iteration: 3301 | Training loss: 1.548344 | Testing loss: 1.604168\n",
      "Iteration: 3401 | Training loss: 1.550137 | Testing loss: 1.604694\n",
      "Iteration: 3501 | Training loss: 1.547437 | Testing loss: 1.603230\n",
      "Iteration: 3601 | Training loss: 1.546377 | Testing loss: 1.604511\n",
      "Iteration: 3701 | Training loss: 1.548062 | Testing loss: 1.602803\n",
      "Iteration: 3801 | Training loss: 1.546446 | Testing loss: 1.601869\n",
      "Iteration: 3901 | Training loss: 1.547519 | Testing loss: 1.601987\n",
      "Iteration: 4001 | Training loss: 1.545523 | Testing loss: 1.602613\n",
      "Iteration: 4101 | Training loss: 1.548062 | Testing loss: 1.601448\n",
      "Iteration: 4201 | Training loss: 1.545095 | Testing loss: 1.601134\n",
      "Iteration: 4301 | Training loss: 1.544558 | Testing loss: 1.601553\n",
      "Iteration: 4401 | Training loss: 1.544468 | Testing loss: 1.600896\n",
      "Iteration: 4501 | Training loss: 1.544320 | Testing loss: 1.599403\n",
      "Iteration: 4601 | Training loss: 1.543969 | Testing loss: 1.598950\n",
      "Iteration: 4701 | Training loss: 1.543287 | Testing loss: 1.599773\n",
      "Iteration: 4801 | Training loss: 1.544863 | Testing loss: 1.597925\n",
      "Iteration: 4901 | Training loss: 1.545048 | Testing loss: 1.597683\n"
     ]
    }
   ],
   "source": [
    "# TODO (7 points, details are given below)\n",
    "\n",
    "# Make a instance of the model class (0.5 point)\n",
    "# YOUR CODE HERE\n",
    "\n",
    "inputFeature = x_train.size(1) \n",
    "model = Model(inputFeature)\n",
    "\n",
    "\n",
    "# create an optimizer, set a workable learing rate (1 point)\n",
    "# YOUR CODE HERE\n",
    "\n",
    "learning_rate = 0.0001\n",
    "optimizer = torch.optim.SGD(model.parameters(), lr=learning_rate)\n",
    "\n",
    "\n",
    "\n",
    "def calculateLoss(y_pred, y_true):\n",
    "    return torch.mean(torch.abs(y_pred - y_true))\n",
    "\n",
    "\n",
    "\n",
    "training_losses = []\n",
    "testing_losses = []\n",
    "\n",
    "n_itr = 5000\n",
    "\n",
    "for i in range(n_itr):\n",
    "\n",
    "    # Train\n",
    "    # forward propagation \n",
    "    model.train() # change model to train mode\n",
    "       \n",
    "    \n",
    "    # calculate the output of model (0.5 point)\n",
    "    # YOUR CODE HERE    \n",
    "    \n",
    "    y_pred = model(x_train)\n",
    "    \n",
    "    # calculate loss according to the above equation (1 point)\n",
    "    # YOUR CODE HERE\n",
    "    \n",
    "    loss = calculateLoss(y_pred, y_train)\n",
    "    \n",
    "    training_losses.append(loss.item())\n",
    "\n",
    "\n",
    "    # backward propagation (clear old gradients, calculate gradients of parameters, gradient descent algorithm ) (1.5 point)\n",
    "    # YOUR CODE HERE \n",
    "    \n",
    "    optimizer.zero_grad()\n",
    "    \n",
    "    loss.backward()\n",
    "    \n",
    "    optimizer.step()\n",
    "    \n",
    "    \n",
    "    \n",
    "    # Evaluate, calculate the testing loss (1 point)\n",
    "    model.eval() # change model to eval mode\n",
    "\n",
    "    # YOUR CODE HERE\n",
    "    \n",
    "    with torch.no_grad():\n",
    "        y_test_pred = model(x_test)\n",
    "        test_loss = calculateLoss(y_test_pred, y_test)\n",
    "        \n",
    "        \n",
    "    testing_losses.append(test_loss.item())\n",
    "\n",
    "    # print intermediate losses for certain iterations (0.5 point)\n",
    "    if i % 100 == 1: \n",
    "        print('Iteration: %04d | Training loss: %f | Testing loss: %f' % \\\n",
    "              (i, loss.data, test_loss.data))\n",
    "\n",
    "\n"
   ]
  },
  {
   "cell_type": "code",
   "execution_count": 34,
   "metadata": {},
   "outputs": [
    {
     "data": {
      "image/png": "[encoded data removed]",
      "text/plain": [
       "<Figure size 720x576 with 1 Axes>"
      ]
     },
     "metadata": {
      "needs_background": "light"
     },
     "output_type": "display_data"
    }
   ],
   "source": [
    "# plot the traing losses and testing losses (0.5 point)\n",
    "# YOUR CODE HERE\n",
    "\n",
    "plt.figure(figsize=(10, 8))\n",
    "plt.plot(range(n_itr), training_losses, label='Training Loss')\n",
    "plt.plot(range(n_itr), testing_losses, label='Testing Loss')\n",
    "\n",
    "\n",
    "plt.show()"
   ]
  },
  {
   "cell_type": "code",
   "execution_count": 50,
   "metadata": {
    "scrolled": true
   },
   "outputs": [
    {
     "data": {
      "image/png": "[encoded data removed]",
      "text/plain": [
       "<Figure size 1440x720 with 1 Axes>"
      ]
     },
     "metadata": {
      "needs_background": "light"
     },
     "output_type": "display_data"
    }
   ],
   "source": [
    "# As our model contains a 3 dimensionsional input, we will only plot the relationship between the first variable 'tv' and the target.\n",
    "# Again plot the train and test data (from Part1), and add a line where the slope and axis intercept are taken from the model parameters w and b\n",
    "# (0.5 point)\n",
    "\n",
    "# YOUR CODE HERE\n",
    "\n",
    "w = model.w[0].item()  \n",
    "b = model.b.item()\n",
    "\n",
    "tv_feature = torch.cat((x_train[:, 0], x_test[:, 0]), 0)\n",
    "\n",
    "y_pred_line = w * tv_feature + b\n",
    "\n",
    "\n",
    "\n",
    "\n",
    "\n",
    "plt.figure(figsize=(20, 10))\n",
    "plt.scatter(x_train[:, 0], y_train, color='blue', label='Train Data', s=5)\n",
    "plt.scatter(x_test[:, 0], y_test, color='red', label='Test Data', s=50)\n",
    "plt.plot(tv_feature.numpy(), y_pred_line.numpy(), color='orange', label='Prediction Line')\n",
    "plt.show()"
   ]
  },
  {
   "cell_type": "code",
   "execution_count": null,
   "metadata": {},
   "outputs": [],
   "source": []
  }
 ],
 "metadata": {
  "kernelspec": {
   "display_name": "Python 3 (ipykernel)",
   "language": "python",
   "name": "python3"
  },
  "language_info": {
   "codemirror_mode": {
    "name": "ipython",
    "version": 3
   },
   "file_extension": ".py",
   "mimetype": "text/x-python",
   "name": "python",
   "nbconvert_exporter": "python",
   "pygments_lexer": "ipython3",
   "version": "3.8.12"
  }
 },
 "nbformat": 4,
 "nbformat_minor": 4
}

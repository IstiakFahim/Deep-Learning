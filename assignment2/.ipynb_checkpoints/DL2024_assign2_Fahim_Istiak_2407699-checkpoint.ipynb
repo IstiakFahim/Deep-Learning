{
 "cells": [
  {
   "cell_type": "markdown",
   "metadata": {
    "id": "iwLIAAnTnA5T"
   },
   "source": [
    "# Deep Learning 2024 - Assignment 2: Neural Networks\n",
    "Instructed by Jukka Komulainen (jukka.komulainen@oulu.fi)"
   ]
  },
  {
   "cell_type": "markdown",
   "metadata": {
    "id": "k4NrFFbxnA5U"
   },
   "source": [
    "## Outline\n",
    "#### In this assignment, you will learn:\n",
    "* Basics of (deep) feedforward neural networks (NNs)\n",
    "* Building a simple NN from scratch using NumPy to understand how forward/back propagation and optimization works\n",
    "* Gradient check using finite-difference approximation\n",
    "* Mini-batch gradient descent with momentum\n",
    "* Regularization and simple hyperparameter tuning methods to improve the performance of NNs"
   ]
  },
  {
   "cell_type": "markdown",
   "metadata": {
    "id": "uMUSCjAWnA5U"
   },
   "source": [
    "#### Tasks & grading (<span style=\"color:green\">10 points</span>)\n",
    "\n",
    "* **Part 1: Importing libraries, loading and preprocessing the training and testing data**\n",
    "* **Part 2: Build neural network and implement its forward and backward propagation (<span style=\"color:green\">5.5 points</span>)**\n",
    "  * 2.1 Check the structure of dataset\n",
    "  * 2.2 Construct model and implement forward propagation (<span style=\"color:green\">3 points</span>)\n",
    "    * Initialize model parameters (<span style=\"color:green\">0.5 points</span>)\n",
    "    * Define activation functions (<span style=\"color:green\">1.5 points</span>)\n",
    "    * Implement forward propagation (<span style=\"color:green\">1 point</span>)\n",
    "  * 2.3 Loss function computation and backward propagation (<span style=\"color:green\">2.5 points</span>)\n",
    "    * Implement cross-entropy loss function (<span style=\"color:green\">0.5 points</span>)\n",
    "    * Implement backward propagation (<span style=\"color:green\">2 points</span>)\n",
    "    * Extended Reading: Gradient check using finite-difference approximation\n",
    "* **Part 3: Training and evaluation of your neural network (<span style=\"color:green\">2 points</span>)**\n",
    "  * 3.1 Training your network (<span style=\"color:green\">1.5 points</span>)\n",
    "  * 3.2 Evaluating the performance of your model (<span style=\"color:green\">0.5 points</span>)\n",
    "\n",
    "* **Part 4: Regularization and hyperparameter tuning (<span style=\"color:green\">2.5 points</span>)**\n",
    "  * 4.1 Implement weight decay loss and its backward propagation  (<span style=\"color:green\">1.5 points</span>)\n",
    "  * 4.2 Hyperparameter tuning (<span style=\"color:green\">1 point</span>)"
   ]
  },
  {
   "cell_type": "markdown",
   "metadata": {
    "id": "Zbp8fnB4nA5U"
   },
   "source": [
    "#### Environment\n",
    "Python 3, Numpy, matplotlib, sklearn\n",
    "\n",
    "#### Dataset\n",
    "* [**Fashion-MNIST**](https://github.com/zalandoresearch/fashion-mnist)\n",
    "is a dataset of Zalando's article images — consisting of a training set of 60,000 samples and a test set of 10,000 samples. Each samples is a 28x28 grayscale image, associated with a label corresponding to 10 classes. Intention of the Fashion-MNIST dataset is to serve as a direct drop-in replacement for the original MNIST dataset for benchmarking machine learning algorithms. It shares the same image size and structure of training and testing splits. The Fashion-MNIST dataset gives you more room to wiggle your experiments.\n",
    "\n",
    "#### Hints\n",
    "* To find the place where you have to insert your solution, hit Crtl + F and search for **TODO:**. You are **NOT** supposed to modify the code of other parts.\n",
    "* **Be careful with the shape** of your tensors (e.g. the weights and gradients) in your implementation. Double-check and make sure that the dimensions match the computations, especially in the case of matrix multiplication.\n",
    "* You can check the correctness of your code by comparing your intermediate outputs with the provided **<span style=\"color:green\">reference results</span>**. **Please remember to do this in every step in order to avoid cumulating errors in your implementation.**"
   ]
  },
  {
   "cell_type": "markdown",
   "metadata": {
    "id": "VuFE0X3jnA5V"
   },
   "source": [
    "## Part 1: Importing libraries, loading and preprocessing the training and test data\n",
    "**You don't need to change any of the code in this part!**"
   ]
  },
  {
   "cell_type": "code",
   "execution_count": 3,
   "metadata": {
    "id": "vaTmxGnanA5V"
   },
   "outputs": [],
   "source": [
    "# You will mainly use NumPy to construct your NN\n",
    "import numpy as np\n",
    "import matplotlib, time, copy, os, requests, zipfile, sys\n",
    "# Matplotlib for displaying images\n",
    "import matplotlib.pyplot as plt\n",
    "# Off-the-shelf evaluation functions provided by sklearn\n",
    "from sklearn.metrics import confusion_matrix, accuracy_score"
   ]
  },
  {
   "cell_type": "markdown",
   "metadata": {
    "id": "DP6tQG8mnA5V"
   },
   "source": [
    "### Downloading the Fashion-MNIST dataset from OneDrive\n",
    "Installing first [onedrivedownloader](https://pypi.org/project/onedrivedownloader/) package for downloading the data."
   ]
  },
  {
   "cell_type": "code",
   "execution_count": 4,
   "metadata": {
    "colab": {
     "base_uri": "https://localhost:8080/"
    },
    "id": "TRs3Z4kTnA5V",
    "outputId": "14e7d3e5-8bdf-4b81-eab5-7af2a9a6dd03",
    "scrolled": true
   },
   "outputs": [
    {
     "name": "stdout",
     "output_type": "stream",
     "text": [
      "Requirement already satisfied: onedrivedownloader in c:\\users\\fahim\\anaconda3\\lib\\site-packages (1.1.3)\n",
      "Requirement already satisfied: requests in c:\\users\\fahim\\anaconda3\\lib\\site-packages (from onedrivedownloader) (2.26.0)\n",
      "Requirement already satisfied: tqdm in c:\\users\\fahim\\anaconda3\\lib\\site-packages (from onedrivedownloader) (4.62.2)\n",
      "Requirement already satisfied: certifi>=2017.4.17 in c:\\users\\fahim\\anaconda3\\lib\\site-packages (from requests->onedrivedownloader) (2022.6.15.1)\n",
      "Requirement already satisfied: charset-normalizer~=2.0.0 in c:\\users\\fahim\\anaconda3\\lib\\site-packages (from requests->onedrivedownloader) (2.0.4)\n",
      "Requirement already satisfied: idna<4,>=2.5 in c:\\users\\fahim\\anaconda3\\lib\\site-packages (from requests->onedrivedownloader) (3.3)\n",
      "Requirement already satisfied: urllib3<1.27,>=1.21.1 in c:\\users\\fahim\\anaconda3\\lib\\site-packages (from requests->onedrivedownloader) (1.26.7)\n",
      "Requirement already satisfied: colorama in c:\\users\\fahim\\anaconda3\\lib\\site-packages (from tqdm->onedrivedownloader) (0.4.4)\n"
     ]
    }
   ],
   "source": [
    "!pip install onedrivedownloader"
   ]
  },
  {
   "cell_type": "markdown",
   "metadata": {
    "id": "G_-X7NwuiJk9"
   },
   "source": [
    "Downloading the Fashion-MNIST dataset."
   ]
  },
  {
   "cell_type": "code",
   "execution_count": 5,
   "metadata": {
    "id": "MSH331irnA5W"
   },
   "outputs": [],
   "source": [
    "from onedrivedownloader import download\n",
    "\n",
    "link = 'https://unioulu-my.sharepoint.com/:u:/g/personal/jukmaatt_univ_yo_oulu_fi/Ebf8gdfru91OngYyFwRtAaYB6MNFdx-HExiy8RApgVwnwA?e=FuS4GI'\n",
    "\n",
    "if not os.path.exists('./data_hw2/fashion_mnist_npy'):\n",
    "    print('Downloading dataset')\n",
    "    download(link, filename=\"./fashion_mnist_npy.zip\", unzip=True, unzip_path='./data_hw2/fashion_mnist_npy')"
   ]
  },
  {
   "cell_type": "markdown",
   "metadata": {
    "id": "_R2fkZmVnA5W"
   },
   "source": [
    "### Defining functions for preprocessing the training & testing data"
   ]
  },
  {
   "cell_type": "code",
   "execution_count": 6,
   "metadata": {
    "id": "geQsilhAnA5W"
   },
   "outputs": [],
   "source": [
    "def reshape_train_data(X):\n",
    "    ''' Input training data has shape (60000, 28, 28)\n",
    "        Input testing data has shape (10000, 28, 28)\n",
    "        where:\n",
    "        60000 is the numbers of input training samples\n",
    "        10000 is the numbers of input testing samples\n",
    "        similar to MNIST, resolution of each sample is 28 x 28\n",
    "    '''\n",
    "    samples, H, W = X.shape\n",
    "    # Reshape input volume to (sample, 784), which means that the size of your NN input layer will be 784\n",
    "    # We scale the grayscale values by dividing them by 255, which will help to improve the training performance\n",
    "    return X.reshape(samples, H * W).T / 255\n",
    "\n",
    "def one_hot_vector(x, num_classes):\n",
    "    # Converting categorical labels into a binary vector\n",
    "    return np.eye(num_classes)[x].T"
   ]
  },
  {
   "cell_type": "markdown",
   "metadata": {
    "id": "kJLqVao3nA5W"
   },
   "source": [
    "### Preprocessing the dataset"
   ]
  },
  {
   "cell_type": "code",
   "execution_count": 7,
   "metadata": {
    "colab": {
     "base_uri": "https://localhost:8080/",
     "height": 425
    },
    "id": "0cx9y0D8nA5W",
    "outputId": "6eafff4b-f83f-4277-9202-62695d7bb462"
   },
   "outputs": [
    {
     "data": {
      "image/png": "[encoded data removed]",
      "text/plain": [
       "<Figure size 1152x576 with 5 Axes>"
      ]
     },
     "metadata": {
      "needs_background": "light"
     },
     "output_type": "display_data"
    },
    {
     "data": {
      "image/png": "[encoded data removed]",
      "text/plain": [
       "<Figure size 1152x576 with 5 Axes>"
      ]
     },
     "metadata": {
      "needs_background": "light"
     },
     "output_type": "display_data"
    }
   ],
   "source": [
    "PATH = os.path.join('data_hw2', 'fashion_mnist_npy')\n",
    "\n",
    "# The actual meaning of your class labels.\n",
    "# E.g. an output one-hot vector is [0. 0. 0. 1. 0. 0. 0. 0. 0. 0.] represents a dress\n",
    "label_names = ['T-shirt/top', 'Trouser', 'Pullover', 'Dress', 'Coat',\n",
    "               'Sandal', 'Shirt', 'Sneaker', 'Bag', 'Ankle boot']\n",
    "\n",
    "# Load the training samples\n",
    "X_train = np.load(os.path.join(PATH, 'train_data.npy'))\n",
    "# Load the test samples\n",
    "X_test = np.load(os.path.join(PATH, 'test_data.npy'))\n",
    "# Load the training labels\n",
    "Y_train = np.load(os.path.join(PATH, 'train_labels.npy'))\n",
    "# Load the test labels\n",
    "Y_test = np.load(os.path.join(PATH, 'test_labels.npy'))\n",
    "\n",
    "# Get the number of classes\n",
    "num_classes = len(label_names)\n",
    "# Get the number of training images and their resolution\n",
    "num_trains, HEIGHT, WIDTH = X_train.shape\n",
    "\n",
    "# Reshape the training and test data\n",
    "X_train, X_test = reshape_train_data(X_train), reshape_train_data(X_test)\n",
    "\n",
    "# Create one-hot vector for the training and test labels\n",
    "Y_train, Y_test = one_hot_vector(Y_train, num_classes), one_hot_vector(Y_test, num_classes)\n",
    "\n",
    "# The following code load randomly some of the training and test images and the corresponding one-hot vectors for checking\n",
    "fig_train, ax_train = plt.subplots(figsize=(16, 8), nrows=1, ncols=5)\n",
    "fig_train.suptitle(\"Random images from the TRAIN set\", y=0.73, fontsize=16, fontweight='bold')\n",
    "\n",
    "fig_test, ax_test = plt.subplots(figsize=(16, 8), nrows=1, ncols=5)\n",
    "fig_test.suptitle(\"Random images from the TEST set\", y=0.73, fontsize=16, fontweight='bold')\n",
    "\n",
    "np.random.seed(666)\n",
    "for idx in range(5):\n",
    "    i, j = np.random.randint(num_trains), np.random.randint(X_test.shape[0])\n",
    "\n",
    "    ax_train[idx].imshow(X_train[:,i].reshape(HEIGHT, WIDTH), cmap = matplotlib.cm.binary)\n",
    "    ax_train[idx].set_title(label_names[np.argmax(Y_train[:,i])] + \"\\n\" + str(Y_train[:,i]))\n",
    "    ax_train[idx].axis('off')\n",
    "\n",
    "    ax_test[idx].imshow(X_test[:,j].reshape(HEIGHT, WIDTH), cmap = matplotlib.cm.binary)\n",
    "    ax_test[idx].set_title(label_names[np.argmax(Y_test[:,j])] + \"\\n\" + str(Y_test[:,j]))\n",
    "    ax_test[idx].axis('off')"
   ]
  },
  {
   "cell_type": "markdown",
   "metadata": {
    "id": "H7VT4AC_nA5X"
   },
   "source": [
    "## Part 2: Build neural network and implement its forward and backward propagation (<span style=\"color:green\">5.5 points</span>)\n",
    "#### The fun part begins here.\n",
    "*Definition:* loss function is a function that maps an event or values of one or more variables onto a real number intuitively representing some \"cost\" associated with the event. Loss function (sometimes called cost function) is used to calculate the gradient by applying the chain rule, so that we can update the weights (and bias) of our neural network using an optimizer such as gradient descent. <br>\n",
    "It could be interpreted as using the loss function to calculate the network’s layers error, in which we calculate the error of the current layer, then pass the weighted error back to the previous layer, and recursively doing this until we travel back to the first hidden layer. At each layer, we update the weights using the derivative of the cost for each weight.\n",
    "\n",
    "Let illustrate this concept using a simple toy example.\n",
    "\n"
   ]
  },
  {
   "cell_type": "markdown",
   "metadata": {
    "id": "AEf38W_GnA5X"
   },
   "source": [
    "![Figure1.png](http://yty.kapsi.fi/DLcourse/ass2/Figure1.png)"
   ]
  },
  {
   "cell_type": "markdown",
   "metadata": {
    "id": "Oi_2eaCXnA5X"
   },
   "source": [
    "<center> <strong> <font size=\"3\" color=\"red\"> Figure 1. Toy example of backpropagation </font> </strong> </center>\n",
    "\n",
    "In **Fig. 1** we have a loss function $L$:\n",
    "\\begin{align}\n",
    "L = c \\times d\n",
    "\\end{align}\n",
    "\n",
    "where <br>\n",
    "\n",
    "\\begin{align}\n",
    "c = a + b -5\n",
    "\\end{align}\n",
    "\n",
    "and <br>\n",
    "\n",
    "\\begin{align}\n",
    "d = b^2 + b -1\n",
    "\\end{align}\n",
    "\n",
    "As illustrated in **Fig. 1**, the equations in the edge show the partial derivation of some functions with respect to their direct variables. For example, $\\frac{\\partial L}{\\partial c}$ is the partial derivative of $L$ with respect to $c$. <br>\n",
    "However, we are actually interested in calculating the derivative of $L$ with respect to $a$ and $b$, which don't directly connected with each other. So, how can we do this? As mentioned earlier, we can do this using the chain-rule so that we can calculate $\\frac{\\partial L}{\\partial a}$ and $\\frac{\\partial L}{\\partial b}$ as:\n",
    "\n",
    "\\begin{align}\n",
    "\\frac{\\partial L}{\\partial a} = \\frac{\\partial L}{\\partial c} \\cdot \\frac{\\partial c}{\\partial a}\n",
    "\\end{align}\n",
    "\n",
    "and <br>\n",
    "\n",
    "\\begin{align}\n",
    "\\frac{\\partial L}{\\partial b} = \\frac{\\partial L}{\\partial c} \\cdot \\frac{\\partial c}{\\partial b} + \\frac{\\partial L}{\\partial d} \\cdot \\frac{\\partial d}{\\partial b}\n",
    "\\end{align}\n",
    "\n",
    "More importantly, **we can see that $a$ affect $L$ through $c$, and so on**. This concept hold no matter how many hidden layers you have or how complicated your loss will be as long as you use backpropagation to calculate the derivative to update your weights."
   ]
  },
  {
   "cell_type": "markdown",
   "metadata": {
    "id": "jI8hUvewnA5Y"
   },
   "source": [
    "**Now, let's get your hand dirty.**"
   ]
  },
  {
   "cell_type": "markdown",
   "metadata": {
    "id": "84J6PWbLnA5Y"
   },
   "source": [
    "### 2.1 Check the structure of the dataset."
   ]
  },
  {
   "cell_type": "markdown",
   "metadata": {
    "id": "dhsMUBTfnA5Y"
   },
   "source": [
    "Before we start, one important thing is to check the structure of the input data. We can run the following code to print the shape of the train and test data."
   ]
  },
  {
   "cell_type": "code",
   "execution_count": 12,
   "metadata": {
    "colab": {
     "base_uri": "https://localhost:8080/"
    },
    "id": "fS0fzooanA5Y",
    "outputId": "6b22b5b4-dff3-4bed-dbfb-22d7dde7c883"
   },
   "outputs": [
    {
     "name": "stdout",
     "output_type": "stream",
     "text": [
      "Shape of X_train: (784, 60000)\n",
      "Shape of Y_train: (10, 60000)\n",
      "Shape of X_test: (784, 10000)\n",
      "Shape of Y_test: (10, 10000)\n"
     ]
    }
   ],
   "source": [
    "print('Shape of X_train:', X_train.shape)\n",
    "print('Shape of Y_train:', Y_train.shape)\n",
    "print('Shape of X_test:', X_test.shape)\n",
    "print('Shape of Y_test:', Y_test.shape)"
   ]
  },
  {
   "cell_type": "markdown",
   "metadata": {
    "id": "ZeHMMFeknA5Z"
   },
   "source": [
    "### 2.2 Construct the model and implement its forward propagation (<span style=\"color:green\">5 points</span>)\n",
    "\n",
    "**Fig. 2** below shows the model that we will be using in this assignment.\n",
    "\n"
   ]
  },
  {
   "cell_type": "markdown",
   "metadata": {
    "id": "gd5eBJygnA5Z"
   },
   "source": [
    "![Figure2.png](http://yty.kapsi.fi/DLcourse/ass2/Figure2.png)"
   ]
  },
  {
   "cell_type": "markdown",
   "metadata": {
    "id": "OobtThTGnA5Z"
   },
   "source": [
    "<center> <strong> <font size=\"4\" color=\"red\"> Figure 2. Composition of our simple feed-forward neural network </font> </strong> </center>"
   ]
  },
  {
   "cell_type": "markdown",
   "metadata": {
    "id": "om-Ux6FjnA5a"
   },
   "source": [
    "### Initialize model parameters (<span style=\"color:green\">0.5 points</span>)"
   ]
  },
  {
   "cell_type": "markdown",
   "metadata": {
    "id": "i7_ByHU1nA5a"
   },
   "source": [
    "As shown in the **Fig. 2**, our neural network contains two hidden layers (with **10** and **6** neurons in the first and second hidden layers by default, respectively) and an output layer. To further simplify things, we will not include biases in our model. Be aware that, while the number of neurons in the hidden layer can be arbitrary, there must be 10 neurons in the output layer because we want our model to classify images originating from 10 different classes.\n",
    "\n",
    "In the following, you will have to construct your network based on the **Fig. 2**."
   ]
  },
  {
   "cell_type": "markdown",
   "metadata": {
    "id": "YFCPdo3gtEk2"
   },
   "source": [
    "Let's fix first the parameters of our neural network to the default setting."
   ]
  },
  {
   "cell_type": "code",
   "execution_count": 13,
   "metadata": {
    "id": "QB5A5fponA5a"
   },
   "outputs": [],
   "source": [
    "# Numbers of input units\n",
    "num_inputs = X_train.shape[0]\n",
    "\n",
    "# Number of neurons in the hidden layer\n",
    "num_hidden_1 = 10\n",
    "num_hidden_2 = 6\n",
    "\n",
    "# Numbers of output units\n",
    "num_outputs = num_classes"
   ]
  },
  {
   "cell_type": "markdown",
   "metadata": {
    "id": "YXv1mZa4nA5a"
   },
   "source": [
    "Now, initialize the network parameters randomly in the code cell below so that the shape of the weights is **(out_dim, in_dim)**, where the **in_dim** and **out_dim** correspond to the input and output dimensions of a layer."
   ]
  },
  {
   "cell_type": "code",
   "execution_count": 112,
   "metadata": {
    "id": "M8dARoJQnA5a"
   },
   "outputs": [],
   "source": [
    "def init_parameters(num_inputs, num_hidden_1, num_hidden_2, num_outputs):\n",
    "    \"\"\"Method for initializing the model parameters and the learning velocity of momentum for gradient decent.\n",
    "\n",
    "    Returns:\n",
    "        parameters (tuple): the model parameters: W1, W2, W3\n",
    "        velocity (tuple): the learning velocity of momentum: V_dW1, V_dW2, V_dW3\n",
    "    \"\"\"\n",
    "\n",
    "    # Construct your neural network in Fig. 2\n",
    "    # TODO: Initialize randomly the hidden_1, hidden_2 and output layer weights (w/o bias) (0.5 points)\n",
    "    # Hint: use np.random.randn()\n",
    "    \n",
    "    \n",
    "    W1 = np.random.randn(num_hidden_1, num_inputs) * 0.01\n",
    "    W2 = np.random.randn(num_hidden_2, num_hidden_1) * 0.01\n",
    "    W3 = np.random.randn(num_hidden_1, num_hidden_2) * 0.01\n",
    "\n",
    "    parameters = W1, W2, W3\n",
    "\n",
    "    # Initialize the momentum of gradient descent to zero\n",
    "    V_dW1 = np.zeros(W1.shape)\n",
    "    V_dW2 = np.zeros(W2.shape)\n",
    "    V_dW3 = np.zeros(W3.shape)\n",
    "\n",
    "    velocity = V_dW1, V_dW2, V_dW3\n",
    "\n",
    "    return parameters, velocity\n",
    "\n"
   ]
  },
  {
   "cell_type": "markdown",
   "metadata": {
    "id": "a4x2jEv1tvLI"
   },
   "source": [
    "Check whether your output matches the reference results."
   ]
  },
  {
   "cell_type": "code",
   "execution_count": 114,
   "metadata": {
    "colab": {
     "base_uri": "https://localhost:8080/"
    },
    "id": "ZGMypKzjnA5a",
    "outputId": "420efe84-cbf6-4667-c42c-8ef605925afb"
   },
   "outputs": [
    {
     "name": "stdout",
     "output_type": "stream",
     "text": [
      "Shape of W1: (10, 784)\n",
      "Shape of W2: (6, 10)\n",
      "Shape of W3: (10, 6)\n"
     ]
    }
   ],
   "source": [
    "parameters, velocity = init_parameters(num_inputs, num_hidden_1, num_hidden_2, num_outputs)\n",
    "\n",
    "W1, W2, W3 = parameters\n",
    "\n",
    "print('Shape of W1:', W1.shape)\n",
    "print('Shape of W2:', W2.shape)\n",
    "print('Shape of W3:', W3.shape)"
   ]
  },
  {
   "cell_type": "markdown",
   "metadata": {
    "id": "8zDOeFQ6nA5a"
   },
   "source": [
    "**<span style=\"color:green\">Reference results:</span>** <br>\n",
    "Shape of W1: (10, 784)<br>\n",
    "Shape of W2: (6, 10)<br>\n",
    "Shape of W3: (10, 6)<br>"
   ]
  },
  {
   "cell_type": "markdown",
   "metadata": {
    "id": "sGfHyDd6nA5a"
   },
   "source": [
    "### Define activation functions (<span style=\"color:green\">1.5 points</span>)"
   ]
  },
  {
   "cell_type": "markdown",
   "metadata": {
    "id": "IwuFIB-unA5a"
   },
   "source": [
    "The tanh (hyperbolic tangent) activation is defined as:\n",
    "\n",
    "$$\n",
    "{\\rm tanh}(x) = \\frac{e^{x} - e^{-x}}{e^{x} + e^{-x}}\n",
    "\\tag{1}\n",
    "$$\n",
    "\n",
    "The ReLU (Rectified Linear Unit) is defined as:\n",
    "\n",
    "$$\n",
    "{\\rm ReLU}(x) = \\text{max}(x, 0) =\n",
    "\\begin{cases}\n",
    "x, & \\text{if}\\ x > 0 \\\\\n",
    "0, & \\text{otherwise}\n",
    "\\end{cases}\n",
    "\\tag{2}\n",
    "$$\n",
    "\n",
    "\n",
    "The softmax activation is defined as:\n",
    "\n",
    "$$\n",
    "{\\rm softmax}(x)_i = \\frac{e^{x_i}}{\\sum_{j=1}^{N}e^{x_j}}\\ \\text{for}\\ i\\ \\text{in}\\ \\left\\{1,...,N \\right\\}\n",
    "\\tag{3}\n",
    "$$\n",
    "\n",
    "where $N$ is the number of classes."
   ]
  },
  {
   "cell_type": "code",
   "execution_count": 124,
   "metadata": {},
   "outputs": [],
   "source": [
    "def tanh(X):\n",
    "    # TODO: implement Eq. 1 (0.5 points)\n",
    "    # Hint: use np.exp()\n",
    "    \n",
    "    return (np.exp(X) - np.exp(-X)) / (np.exp(X) + np.exp(-X))"
   ]
  },
  {
   "cell_type": "code",
   "execution_count": 125,
   "metadata": {},
   "outputs": [],
   "source": [
    "def relu(X):\n",
    "    # TODO: implement Eq. 2 (0.5 points)\n",
    "    # Hint: use np.maximum()\n",
    "    \n",
    "    return np.maximum(X, 0)"
   ]
  },
  {
   "cell_type": "code",
   "execution_count": 126,
   "metadata": {},
   "outputs": [],
   "source": [
    "def softmax(X):\n",
    "    # TODO: implement Eq. 3 (0.5 points)\n",
    "    # Hint: use np.exp() and np.sum() <- make sure that sum is performed along correct axis!\n",
    "    \n",
    "    \n",
    "    #exp_a = np.exp(X)-np.max(X, axis=0)\n",
    "    \n",
    "    exp_a = np.exp(X - np.max(X, axis=0, keepdims=True))\n",
    "\n",
    "    \n",
    "    \n",
    "    return np.exp(X) / np.sum(np.exp(X), axis=0, keepdims=True)"
   ]
  },
  {
   "cell_type": "code",
   "execution_count": 36,
   "metadata": {
    "id": "d73D7SSLnA5a"
   },
   "outputs": [],
   "source": [
    "# def tanh(X):\n",
    "#     # TODO: implement Eq. 1 (0.5 points)\n",
    "#     # Hint: use np.exp()\n",
    "#     return\n",
    "\n",
    "# def relu(X):\n",
    "#     # TODO: implement Eq. 2 (0.5 points)\n",
    "#     # Hint: use np.maximum()\n",
    "#     return\n",
    "\n",
    "# def softmax(X):\n",
    "#     # TODO: implement Eq. 3 (0.5 points)\n",
    "#     # Hint: use np.exp() and np.sum() <- make sure that sum is performed along correct axis!\n",
    "#     return"
   ]
  },
  {
   "cell_type": "markdown",
   "metadata": {
    "id": "qncy_4Xl0D4h"
   },
   "source": [
    "Check whether your output matches the reference results."
   ]
  },
  {
   "cell_type": "code",
   "execution_count": 127,
   "metadata": {
    "colab": {
     "base_uri": "https://localhost:8080/"
    },
    "id": "OQkU5pKdnA5a",
    "outputId": "3cc25e32-67f8-45bb-ee5f-516d54d57eb7"
   },
   "outputs": [
    {
     "name": "stdout",
     "output_type": "stream",
     "text": [
      "X\n",
      "[[-1]\n",
      " [ 0]\n",
      " [ 2]] \n",
      "\n",
      "tanh(x)\n",
      "[[-0.76159416]\n",
      " [ 0.        ]\n",
      " [ 0.96402758]] \n",
      "\n",
      "relu(x)\n",
      "[[0]\n",
      " [0]\n",
      " [2]] \n",
      "\n",
      "softmax(x)\n",
      "[[0.04201007]\n",
      " [0.1141952 ]\n",
      " [0.84379473]]\n"
     ]
    }
   ],
   "source": [
    "X = np.array([-1, 0, 2]).reshape(-1, 1)\n",
    "\n",
    "print('X')\n",
    "print(X, '\\n')\n",
    "\n",
    "print('tanh(x)')\n",
    "print(tanh(X), '\\n')\n",
    "\n",
    "print('relu(x)')\n",
    "print(relu(X), '\\n')\n",
    "\n",
    "print('softmax(x)')\n",
    "print(softmax(X))"
   ]
  },
  {
   "cell_type": "markdown",
   "metadata": {
    "id": "vcfUSVklnA5b"
   },
   "source": [
    "**<span style=\"color:green\">Reference Results:</span>** <br>\n",
    "tanh(x)<br>\n",
    "[[-0.76159416]<br>\n",
    " [ 0.        ]<br>\n",
    " [ 0.96402758]]<br>\n",
    "\n",
    "relu(x)<br>\n",
    "[[0]<br>\n",
    " [0]<br>\n",
    " [2]]<br>\n",
    "\n",
    "softmax(x)<br>\n",
    "[[0.04201007]<br>\n",
    " [0.1141952 ]<br>\n",
    " [0.84379473]]<br>"
   ]
  },
  {
   "cell_type": "markdown",
   "metadata": {
    "id": "oMLnqVhUnA5b"
   },
   "source": [
    "To get a better understanding of the tanh and ReLU activation functions, we can also visualize them as follows:"
   ]
  },
  {
   "cell_type": "code",
   "execution_count": 128,
   "metadata": {
    "colab": {
     "base_uri": "https://localhost:8080/",
     "height": 331
    },
    "id": "FlrrhioanA5b",
    "outputId": "02f42bda-d44e-4f8a-a5eb-c029928dedca"
   },
   "outputs": [
    {
     "data": {
      "text/plain": [
       "[<matplotlib.lines.Line2D at 0x10f32735760>]"
      ]
     },
     "execution_count": 128,
     "metadata": {},
     "output_type": "execute_result"
    },
    {
     "data": {
      "image/png": "[encoded data removed]",
      "text/plain": [
       "<Figure size 504x216 with 2 Axes>"
      ]
     },
     "metadata": {
      "needs_background": "light"
     },
     "output_type": "display_data"
    }
   ],
   "source": [
    "fig, ax = plt.subplots(1, 2, figsize=(7, 3))\n",
    "\n",
    "x = np.linspace(-5, 5, 100).reshape(-1, 1)\n",
    "\n",
    "ax[0].set_title('Tanh')\n",
    "ax[0].plot(x, tanh(x))\n",
    "\n",
    "ax[1].set_title('ReLU')\n",
    "ax[1].plot(x, relu(x))"
   ]
  },
  {
   "cell_type": "markdown",
   "metadata": {
    "id": "HMSws0vCnA5b"
   },
   "source": [
    "### Implement forward propagation (<span style=\"color:green\">1 point</span>)"
   ]
  },
  {
   "cell_type": "markdown",
   "metadata": {
    "id": "dmm6dxXznA5b"
   },
   "source": [
    "According to the model in **Fig. 2**, our **forward propagation** consists of three parts:\n",
    "\n",
    "First, we calculate of the output activation $A_1$ for the first hidden layer:\n",
    "\n",
    "$$\n",
    "\\begin{align}\n",
    "Z_1 &= W_1 X \\tag{4} \\\\\n",
    "A_1 &= {\\rm ReLU}(Z_1) \\tag{5}\n",
    "\\end{align}\n",
    "$$\n",
    "\n",
    "where $W_1$ corresponds to the weights of the first hidden layer and $X$ corresponds to the input. Here we use the **ReLU** activation function.\n",
    "\n",
    "\n",
    "Then, we calculate the activation $A_2$ for the second hidden layer:\n",
    "\n",
    "$$\n",
    "\\begin{align}\n",
    "Z_2 &= W_2 A_1 \\tag{6} \\\\\n",
    "A_2 &= {\\rm tanh}(Z_2) \\tag{7}\n",
    "\\end{align}\n",
    "$$\n",
    "\n",
    "where $W_2$ corresponds to the weights of the second hidden layer. Here we use the **tanh** activation function.\n",
    "\n",
    "Finally, we calculate the activation $A_3$ for the output layer:\n",
    "\n",
    "$$\n",
    "\\begin{align}\n",
    "Z_3 &= W_3 A_2 \\tag{8} \\\\\n",
    "A_3 &= {\\rm softmax}(Z_3) \\tag{9}\n",
    "\\end{align}\n",
    "$$\n",
    "\n",
    "where $W_3$ is the weights of the output layer. Since we are dealing with multi-class classification, we use the softmax activation for the output layer. The output $A_3$ provides the predicted probabilities for the different classes."
   ]
  },
  {
   "cell_type": "markdown",
   "metadata": {
    "id": "W7Wk-7IQ9Vxl"
   },
   "source": [
    "Now, construct the function for forward propagation in the code cell below."
   ]
  },
  {
   "cell_type": "code",
   "execution_count": 132,
   "metadata": {
    "id": "Y50g6_qHnA5b"
   },
   "outputs": [],
   "source": [
    "def forward_propagation(X, parameters):\n",
    "    \"\"\"Method for forward propagation.\n",
    "    Args:\n",
    "        X (np.array): Input data\n",
    "        parameters (tuple): model parameters: W1, W2, W3\n",
    "\n",
    "    Returns:\n",
    "        outputs (tuple): cached outputs of forward propagation: Z1, A1, Z2, A2, Z3, A3 (used later in backpropagation)\n",
    "    \"\"\"\n",
    "\n",
    "    W1, W2, W3 = parameters\n",
    "\n",
    "    # TODO: implement the forward propagation presented in Fig. 2 based on Eq. 4 - 9 (1 point)\n",
    "    # Hint: use np.matmul() to implement matrix multiplication\n",
    "    \n",
    "    \n",
    "    Z1 = np.matmul(W1, X)\n",
    "    \n",
    "    A1 = relu(Z1)\n",
    "    \n",
    "    Z2 = np.matmul(W2, A1)\n",
    "    \n",
    "    A2 = tanh(Z2)\n",
    "    \n",
    "    Z3 = np.matmul(W3, A2)\n",
    "    \n",
    "    A3 = softmax(Z3)\n",
    "\n",
    "    outputs = Z1, A1, Z2, A2, Z3, A3\n",
    "    return outputs"
   ]
  },
  {
   "cell_type": "markdown",
   "metadata": {
    "id": "8wqKthTr8Cva"
   },
   "source": [
    "Check whether your output matches the reference results."
   ]
  },
  {
   "cell_type": "code",
   "execution_count": 133,
   "metadata": {
    "colab": {
     "base_uri": "https://localhost:8080/"
    },
    "id": "SZc6P1w9nA5b",
    "outputId": "66ba8711-b6ec-4959-8537-fbf4e11ca70b"
   },
   "outputs": [
    {
     "name": "stdout",
     "output_type": "stream",
     "text": [
      "Shape of X: (784, 2)\n",
      "Shape of Z1: (10, 2)\n",
      "Shape of A1: (10, 2)\n",
      "Shape of Z2: (6, 2)\n",
      "Shape of A2: (6, 2)\n",
      "Shape of Z3: (10, 2)\n",
      "Shape of A3: (10, 2)\n",
      "\n",
      "Example results of A3:\n",
      "[[0.09999336 0.09999259]\n",
      " [0.09998778 0.09998405]\n",
      " [0.09999789 0.10000008]\n",
      " [0.10000375 0.09999379]\n",
      " [0.10001238 0.10000443]\n",
      " [0.10000258 0.09999483]\n",
      " [0.10000033 0.1000069 ]\n",
      " [0.09998521 0.09998188]\n",
      " [0.10001478 0.10000985]\n",
      " [0.10000193 0.10003162]]\n"
     ]
    }
   ],
   "source": [
    "np.random.seed(1)\n",
    "X = np.random.randn(num_inputs, 2)\n",
    "\n",
    "parameters, _ = init_parameters(num_inputs, num_hidden_1, num_hidden_2, num_outputs)\n",
    "Z1, A1, Z2, A2, Z3, A3 = forward_propagation(X, parameters)\n",
    "\n",
    "print('Shape of X:', X.shape)\n",
    "print('Shape of Z1:', Z1.shape)\n",
    "print('Shape of A1:', A1.shape)\n",
    "print('Shape of Z2:', Z2.shape)\n",
    "print('Shape of A2:', A2.shape)\n",
    "print('Shape of Z3:', Z3.shape)\n",
    "print('Shape of A3:', A3.shape)\n",
    "\n",
    "print('\\nExample results of A3:')\n",
    "print(A3)"
   ]
  },
  {
   "cell_type": "markdown",
   "metadata": {
    "id": "83AQ0e4TnA5b"
   },
   "source": [
    "**<span style=\"color:green\">Reference Results:</span>** <br>\n",
    "Shape of X: (784, 2)<br>\n",
    "Shape of Z1: (10, 2)<br>\n",
    "Shape of A1: (10, 2)<br>\n",
    "Shape of Z2: (6, 2)<br>\n",
    "Shape of A2: (6, 2)<br>\n",
    "Shape of Z3: (10, 2)<br>\n",
    "Shape of A3: (10, 2)<br>\n",
    "\n",
    "Example results of A3:<br>\n",
    "[[1.38202775e-03 4.52205629e-04]<br>\n",
    " [6.15985645e-05 3.82649723e-04]<br>\n",
    " [1.48498984e-03 2.77106027e-03]<br>\n",
    " [3.63232325e-02 2.61529866e-04]<br>\n",
    " [4.89499804e-01 3.33523685e-03]<br>\n",
    " [5.90058174e-02 3.56606147e-03]<br>\n",
    " [3.93312146e-03 7.51254172e-03]<br>\n",
    " [1.09048918e-04 1.57395365e-04]<br>\n",
    " [4.05891483e-01 5.70850621e-03]<br>\n",
    " [2.30887617e-03 9.75852813e-01]]<br>"
   ]
  },
  {
   "cell_type": "markdown",
   "metadata": {
    "id": "L4rwAwTenA5c"
   },
   "source": [
    "### 2.3 Loss function computation and backward propagation (<span style=\"color:green\">2.5 points</span>)"
   ]
  },
  {
   "cell_type": "markdown",
   "metadata": {
    "id": "mwFcp6IVnA5c"
   },
   "source": [
    "### Implement the cross-entropy loss function (<span style=\"color:green\">0.5 points</span>)"
   ]
  },
  {
   "cell_type": "markdown",
   "metadata": {
    "id": "wmiqbSXlnA5c"
   },
   "source": [
    "The cross entropy loss function is defined:\n",
    "\n",
    "$$\n",
    "L = {\\rm cross\\_entropy}(Y, A_3) = - \\frac{1}{M} \\sum_{k=0}^{M} \\sum_{i=0}^{N} Y_i^{k} log({A_3}_i^{k}) \\tag{10}\n",
    "$$\n",
    "\n",
    "where $Y$ corresponds to the ground truth labels, $A_3$ the predicted outputs, $N$ the number of classes, and $M$ is the number of samples in the training batch."
   ]
  },
  {
   "cell_type": "markdown",
   "metadata": {
    "id": "3JgGilKw9LrD"
   },
   "source": [
    "Implement the function for computing the cross-entropy loss in the code cell below."
   ]
  },
  {
   "cell_type": "code",
   "execution_count": 136,
   "metadata": {
    "id": "UL5aXtlfnA5c"
   },
   "outputs": [],
   "source": [
    "def cross_entropy_loss(Y, Y_pred):\n",
    "    # TODO: implement Eq. 10 (0.5 points)\n",
    "    # Hint: use np.sum(), np.multiply(), np.log() and Y.shape[]\n",
    "    \n",
    "    shape = Y.shape[1]\n",
    "    \n",
    "    loss = -np.sum(np.multiply(Y, np.log(Y_pred))) / shape\n",
    "    \n",
    "    return loss"
   ]
  },
  {
   "cell_type": "markdown",
   "metadata": {
    "id": "fVNYP4H89tMq"
   },
   "source": [
    "Check whether your output matches the reference results."
   ]
  },
  {
   "cell_type": "code",
   "execution_count": 138,
   "metadata": {
    "colab": {
     "base_uri": "https://localhost:8080/"
    },
    "id": "nRyluuI3nA5c",
    "outputId": "27477e52-18ee-49e9-977a-d63fb5752a41"
   },
   "outputs": [
    {
     "name": "stdout",
     "output_type": "stream",
     "text": [
      "Shape of Y: (10, 2)\n",
      "Shape of A3: (10, 2)\n",
      "Loss: 1.4200061694735258\n"
     ]
    }
   ],
   "source": [
    "np.random.seed(1)\n",
    "Y = one_hot_vector(np.random.randint(1, num_classes, 2), num_classes)\n",
    "A3 = softmax(np.random.randn(num_classes, 2))\n",
    "\n",
    "L = cross_entropy_loss(Y, A3)\n",
    "print('Shape of Y:', Y.shape)\n",
    "print('Shape of A3:', A3.shape)\n",
    "print('Loss:', L)"
   ]
  },
  {
   "cell_type": "markdown",
   "metadata": {
    "id": "aDG25jAXnA5c"
   },
   "source": [
    "**<span style=\"color:green\">Reference results:</span>** <br>\n",
    "Shape of Y: (10, 2)<br>\n",
    "Shape of A3: (10, 2)<br>\n",
    "Loss: 1.4200061694735258<br>"
   ]
  },
  {
   "cell_type": "markdown",
   "metadata": {
    "id": "r50JbT3TnA5c"
   },
   "source": [
    "### Implement backward propagation (<span style=\"color:green\">2 points</span>)"
   ]
  },
  {
   "cell_type": "markdown",
   "metadata": {
    "id": "uoXdCN1xnA5c"
   },
   "source": [
    "Using the chain rule of calculus, let's compute the **backward propagation** for our model in presented in **Fig. 2**. <br>"
   ]
  },
  {
   "cell_type": "markdown",
   "metadata": {
    "id": "3-pmtJGInA5c"
   },
   "source": [
    "We are interested in finding out the partial derivatives $\\frac{\\partial L}{\\partial W_1}$, $\\frac{\\partial L}{\\partial W_2}$ and $\\frac{\\partial L}{\\partial W_3}$ that describe how the model parameters should be changed to minimize the loss function.\n",
    "\n",
    "Now, let's apply the chain rule to $\\frac{\\partial L}{\\partial W_1}$, $\\frac{\\partial L}{\\partial W_2}$ and $\\frac{\\partial L}{\\partial W_3}$:\n",
    "\n",
    "$$\n",
    "\\frac{\\partial L}{\\partial W_3} = \\frac{\\partial L}{\\partial A_3} \\cdot \\frac{\\partial A_3}{\\partial Z_3} \\cdot \\frac{\\partial Z_3}{\\partial W_3} \\tag{11}\n",
    "$$\n",
    "\n",
    ",\n",
    "\n",
    "$$\n",
    "\\frac{\\partial L}{\\partial W_2} = \\frac{\\partial L}{\\partial A_3} \\cdot \\frac{\\partial A_3}{\\partial Z_3} \\cdot \\frac{\\partial Z_3}{\\partial A_2} \\cdot \\frac{\\partial A_2}{\\partial Z_2} \\cdot \\frac{\\partial Z_2}{\\partial W_2} \\tag{12}\n",
    "$$\n",
    "\n",
    "and\n",
    "\n",
    "$$\n",
    "\\frac{\\partial L}{\\partial W_1} = \\frac{\\partial L}{\\partial A_3} \\cdot \\frac{\\partial A_3}{\\partial Z_3} \\cdot \\frac{\\partial Z_3}{\\partial A_2} \\cdot \\frac{\\partial A_2}{\\partial Z_2} \\cdot \\frac{\\partial Z_2} {\\partial A_1} \\cdot \\frac{\\partial A_1}{\\partial Z_1} \\cdot \\frac{\\partial Z_1}{\\partial W_1} \\tag{13}\n",
    "$$"
   ]
  },
  {
   "cell_type": "markdown",
   "metadata": {
    "id": "Tvsxg6k4CW0i"
   },
   "source": [
    "In the following, we will go through the details needed for computing the different partial derivatives. Don't worry about matrix form of the derivatives as they are given to you in the following.\n",
    "\n",
    "For more details on how to compute the gradients for backpropagation, please refer to the material of lecture 4."
   ]
  },
  {
   "cell_type": "markdown",
   "metadata": {
    "id": "lbJLNC67nA5c"
   },
   "source": [
    "From **Eq. 11** we have:\n",
    "\n",
    "The derivative of $L$ with respect to $Z_3$:\n",
    "\n",
    "$$\n",
    "dZ_3 = \\frac{\\partial L}{\\partial Z_3} = \\frac{\\partial L}{\\partial A_3} \\cdot \\frac{\\partial A_3}{\\partial Z_3} = A_3 - Y \\tag{14}\n",
    "$$\n",
    "\n",
    "<br>\n",
    "\n",
    "The derivative of $L$ with respect to $W_3$:\n",
    "\n",
    "$$\n",
    "d W_3 = \\frac{\\partial L}{\\partial W_3} = \\frac{\\partial L}{\\partial Z_3} \\cdot \\frac{\\partial Z_3}{\\partial W_3} = \\frac{1}{m} d Z_3 \\cdot A_2^T \\tag{15}\n",
    "$$\n",
    "\n",
    "where $m$ is the number of data samples in a mini batch.\n",
    "\n",
    "<br>\n"
   ]
  },
  {
   "cell_type": "markdown",
   "metadata": {
    "id": "gDk-KTr8nA5c"
   },
   "source": [
    "From **Eq. 12** we have:\n",
    "\n",
    "The derivative of $L$ with respect to $A_2$:\n",
    "$$\n",
    "d A_2 = \\frac{\\partial L}{\\partial A_2} = \\frac{\\partial L}{\\partial Z_3} \\cdot \\frac{\\partial Z_3}{\\partial A_2} = W_3^T \\cdot (A_3 - Y) \\tag{16}\n",
    "$$\n",
    "\n",
    "The derivative of $L$ with respect to $Z_2$:\n",
    "\n",
    "$$\n",
    "\\frac{d}{d x}tanh(x)=1-tanh^2(x) \\:\\:\\: \\longrightarrow \\:\\:\\:\\frac{\\partial A_2}{\\partial Z_2} = 1 - (A_2)^2 \\tag{17}\n",
    "$$\n",
    "\n",
    "$$\n",
    "d Z_2 = \\frac{\\partial L}{\\partial Z_2} = \\frac{\\partial L}{\\partial A_2} \\cdot \\frac{\\partial A_2}{\\partial Z_2} = d A_2 * (1 - (A_2)^2 ) \\tag{18}\n",
    "$$\n",
    "\n",
    "The derivative of $L$ with respect to $W_2$:\n",
    "$$\n",
    "d W_2 = \\frac{\\partial L}{\\partial W_2} = \\frac{\\partial L}{\\partial Z_2} \\cdot \\frac{\\partial Z_2}{\\partial W_2} = \\frac{1}{m} d Z_2 \\cdot A_1^T \\tag{19}\n",
    "$$\n",
    "\n",
    "<br>\n"
   ]
  },
  {
   "cell_type": "markdown",
   "metadata": {
    "id": "Pg9nnpJKnA5c"
   },
   "source": [
    "From **Eq. 13** we have:\n",
    "\n",
    "The derivative of $L$ with respect to $A_1$:\n",
    "$$\n",
    "d A_1 = \\frac{\\partial L}{\\partial A_1} = \\frac{\\partial L}{\\partial Z_2} \\cdot \\frac{\\partial Z_2}{\\partial A_1} = W_2^T \\cdot d Z_2\\tag{20}\n",
    "$$\n",
    "\n",
    "The derivative of $L$ with respect to $Z_1$:\n",
    "$$\n",
    "\\frac{\\partial A_1}{\\partial Z_1} = {\\rm int}(A1 > 0) \\tag{21}\n",
    "$$\n",
    "\n",
    "$$\n",
    "d Z_1 = \\frac{\\partial L}{\\partial Z_1} = \\frac{\\partial L}{\\partial A_1} \\cdot \\frac{\\partial A_1}{\\partial Z_1} = d A_1 * {\\rm int}(A1 > 0) \\tag{22}\n",
    "$$\n",
    "\n",
    "The derivative of $L$ with respect to $W_1$:\n",
    "$$\n",
    "d W_1 = \\frac{\\partial L}{\\partial W_1} = \\frac{\\partial L}{\\partial Z_1} \\cdot \\frac{\\partial Z_1}{\\partial W_1} = \\frac{1}{m} d Z_1 \\cdot X^T \\tag{23}\n",
    "$$\n",
    "\n",
    "<br>\n"
   ]
  },
  {
   "cell_type": "markdown",
   "metadata": {
    "id": "fvx3zKgnnA5c"
   },
   "source": [
    "**Hint**\n",
    "\n",
    "For the above equations:\n",
    "- $A \\cdot B$ denotes the matrix multiplication between matrix $A$ and $B$, it can be implementated by using `np.matmul(A, B)`.\n",
    "- $A * B$ denotes the [Hadamard product](https://en.wikipedia.org/wiki/Hadamard_product_(matrices)) (element-wise product) between $A$ and $B$, which can be implemented by using `np.multiply(A, B)` or `A * B`.\n",
    "- $A^T$ denotes the [transpose](https://en.wikipedia.org/wiki/Transpose) of matrix $A$, which can be implemented by using `A.T`\n",
    "- ${\\rm int}(A)$ denotes an operation that converts a matrix of type boolean to type integer, which can be implemented by using `A.astype(int)`.\n",
    "- $m$ is the number of data samples in a mini batch."
   ]
  },
  {
   "cell_type": "code",
   "execution_count": 141,
   "metadata": {
    "id": "KWllDO-YnA5d"
   },
   "outputs": [],
   "source": [
    "def backward_propagation(X, Y, parameters, outputs):\n",
    "    \"\"\"Method for forward propagation.\n",
    "    Args:\n",
    "        X (np.array): input data\n",
    "        Y (np.array): ground truth labels of input data\n",
    "        parameters (tuple): model parameters: W1, W2, W3\n",
    "        outputs (tuple): cached outputs of forward propagation: Z1, A1, Z2, A2, Z3, A3\n",
    "\n",
    "    Returns:\n",
    "        tuple: computed gradients: dW1, dW2, dW3\n",
    "    \"\"\"\n",
    "\n",
    "    m = X.shape[1] # The number of data samples in a mini batch\n",
    "\n",
    "    W1, W2, W3 = parameters\n",
    "    Z1, A1, Z2, A2, Z3, A3 = outputs\n",
    "\n",
    "    # TODO: calculate the derivative of L with respect to Z3 and W3 using Eq. 14 - 15 (0.5 points)\n",
    "    dZ3 = A3 - Y\n",
    "    dW3 = (1/m) * np.matmul(dZ3, A2.T)\n",
    "\n",
    "    # TODO: calculate the derivative of L with respect to A2, Z2 and W2 using Eq. 16 - 19 (0.75 points)\n",
    "    dA2 = np.matmul(W3.T, dZ3)\n",
    "    dZ2 = dA2 * (1 - A2**2)\n",
    "    dW2 = (1/m) * np.matmul(dZ2, A1.T)\n",
    "\n",
    "    # TODO: calculate the derivative of L with respect to A1, Z1 and W1 using Eq. 20 - 23 (0.75 points)\n",
    "    dA1 = np.matmul(W2.T, dZ2)\n",
    "    dZ1 = dA1 * (A1 > 0)\n",
    "    dW1 = (1/m) * np.matmul(dZ1, X.T)\n",
    "\n",
    "    return dW1, dW2, dW3"
   ]
  },
  {
   "cell_type": "markdown",
   "metadata": {
    "id": "1TMaO9PDMked"
   },
   "source": [
    "Check whether your output matches the reference results."
   ]
  },
  {
   "cell_type": "code",
   "execution_count": 143,
   "metadata": {
    "colab": {
     "base_uri": "https://localhost:8080/"
    },
    "id": "eWPrGI_-nA5d",
    "outputId": "c2b0e29a-25c4-4951-8f8a-ae110edde5f4"
   },
   "outputs": [
    {
     "name": "stdout",
     "output_type": "stream",
     "text": [
      "Shape of dW3: (10, 6)\n",
      "Shape of dW2: (6, 10)\n",
      "Shape of dW1: (10, 784)\n",
      "\n",
      "Example results in dW3:\n",
      "[0.01264511 0.01264508 0.01264509 0.01264512 0.01264509 0.01264512\n",
      " 0.01264509 0.01264511 0.01264512 0.01264509]\n",
      "\n",
      "Example results in dW2:\n",
      "[ 0.00684079 -0.00677243 -0.00301518  0.00453125 -0.00347331  0.00354646]\n",
      "\n",
      "Example results in dW1:\n",
      "[ 0.00095196  0.         -0.00048794 -0.00114566 -0.00185991  0.\n",
      "  0.00129042  0.          0.00079551 -0.00068118]\n"
     ]
    }
   ],
   "source": [
    "np.random.seed(1)\n",
    "X = np.random.randn(num_inputs, 2)\n",
    "Y = np.random.randint(1, num_classes, (2, ))\n",
    "\n",
    "parameters, _ = init_parameters(num_inputs, num_hidden_1, num_hidden_2, num_outputs)\n",
    "outputs = forward_propagation(X, parameters)\n",
    "dW1, dW2, dW3 = backward_propagation(X, Y, parameters, outputs)\n",
    "\n",
    "print('Shape of dW3:', dW3.shape)\n",
    "print('Shape of dW2:', dW2.shape)\n",
    "print('Shape of dW1:', dW1.shape)\n",
    "\n",
    "print('\\nExample results in dW3:')\n",
    "print(dW3[:, 0])\n",
    "\n",
    "print('\\nExample results in dW2:')\n",
    "print(dW2[:, 0])\n",
    "\n",
    "print('\\nExample results in dW1:')\n",
    "print(dW1[:, 0])"
   ]
  },
  {
   "cell_type": "markdown",
   "metadata": {
    "id": "B_LhDjFPnA5d"
   },
   "source": [
    "**<span style=\"color:green\">Reference Results:</span>** <br>\n",
    "Shape of dW3: (10, 6)<br>\n",
    "Shape of dW2: (6, 10)<br>\n",
    "Shape of dW1: (10, 784)<br>\n",
    "\n",
    "Example results in dW3:<br>\n",
    "[4.9942051  4.80999429 4.51023899 4.99772104 4.93469564 4.99419688<br>\n",
    " 4.81378453 4.98266546 4.99669364 4.96580443]<br>\n",
    "\n",
    "Example results in dW2:<br>\n",
    "[ 0.00000000e+00  0.00000000e+00 -1.25890118e-12  0.00000000e+00<br>\n",
    " -1.62841039e-11  0.00000000e+00]<br>\n",
    "\n",
    "Example results in dW1:<br>\n",
    "[-1.45284316e-12  0.00000000e+00  4.73647801e-13 -2.40991086e-10<br>\n",
    " -4.70147641e-12  0.00000000e+00  2.25983992e-10  0.00000000e+00<br>\n",
    "  7.74600535e-12  6.12156451e-11]<br>"
   ]
  },
  {
   "cell_type": "markdown",
   "metadata": {
    "id": "WAKVR8E7nA5d"
   },
   "source": [
    "### Extended reading: Gradient check using finite-difference approximation\n",
    "\n",
    "When training deep neural networks, there are many things that can go wrong. Until this point, you probably notice that we have been going on and on about the gradient. Why? Because the gradient is very important. Hence, you must make sure that the calculation of your gradient is correct. A correct gradient calculation won't promise your model will converge, but if the calculation was wrong your model will perform very weird. This type of error is hard to debug, so we better prevent it beforehand. <br>\n",
    "To perform the gradient check, we can calculate gradient using the [finite-difference approximation](https://en.wikipedia.org/wiki/Finite_difference) (FDA), and let's call the output of FDA numerical gradients. Then we compare the numerical gradients with the gradient we calculate from taking the derivative. If the differences between them are small enough, we can assume that the gradient was calculated correctly. <br>\n",
    "\n",
    "You probably learned about FDA in your undergraduate, but to refresh your mind, let's have a simple example to see how FDA works. Assume that we have a function $f(x)$ which <br>\n",
    "\n",
    "\\begin{align}\n",
    "f(x) = \\frac{1}{3} x^3 - \\frac{1}{2} x^2 + 1 \\tag{24}\n",
    "\\end{align}\n",
    "\n",
    "Then, the derivative $\\Delta f$ will be: <br>\n",
    "\\begin{align}\n",
    "\\Delta f = x^2 - x \\tag{25}\n",
    "\\end{align}\n",
    "\n",
    "At $x=2.125$, using **Eq. 25** we have $\\Delta f = 2.390625$\n",
    "\n",
    "If we calculate the numerical gradient using FDA we have:\n",
    "\\begin{align}\n",
    "\\Delta_{num\\_grad} f = \\frac{f(x + \\epsilon) - f(x - \\epsilon)}{2 * \\epsilon}  \\tag{26}\n",
    "\\end{align}\n",
    "\n",
    "where $\\epsilon$ is a very small value (E.g. $\\epsilon = 1e-{04}$)\n",
    "\n",
    "At the same point $x=2.125$, using **Eq. 20** we have $\\Delta_{num\\_grad} f = 2.3906250033389753$ <br>\n",
    "\n",
    "We can see that, the calculated values of $\\Delta f$ and $\\Delta_{num\\_grad} f$ are very close to each other. <br>\n",
    "\n",
    "With the same idea, we can check the gradient calculation of our network using FDA. A simple way to do this is: <br>\n",
    "1) We wiggle (by a very small $\\epsilon$ values) the value of our weight for all of the parameters in our model. By all parameters, I mean all of the weights of $W_1$, $W_2$ and $W_3$. E.g. if we use 7 neurons in the first hidden layer and 3 neurons in the second hidden layer, the number of parameters in our network is : <br>\n",
    "$num\\_params(net) = num\\_params(W_1) + num\\_params(W_2) + num\\_params(W_3) = 28*28*7 + 7*7*3 + 3*10 = 5665$ <br>\n",
    "so we have to repeat the \"wiggling\" and calculate the numerical gradient 5665 times. At the end, we have a $num\\_grad$ vector that have shape (5665,) <br>\n",
    "2) Calculate the gradient by taking the derivative. Similarly, we will have a $grad$ vector that also have shape (5665,) <br>\n",
    "3) Compare $num\\_grad$ and $grad$ vectors by: <br>\n",
    "\\begin{align}\n",
    "grad\\_diff = \\frac{||grad - num\\_grad||_2}{|grad + num\\_grad|_2}  \\tag{27}\n",
    "\\end{align}\n",
    "\n",
    "If **grad_diff** is smaller than $1e-{08}$ than we assume that our gradient calculation is correct."
   ]
  },
  {
   "cell_type": "markdown",
   "metadata": {
    "id": "1VoJFRkCnA5d"
   },
   "source": [
    "## Part 3: Training and evaluation of your neural Network (<span style=\"color:green\">2 points</span>)"
   ]
  },
  {
   "cell_type": "markdown",
   "metadata": {
    "id": "-SSOno-onA5d"
   },
   "source": [
    "### 3.1 Training the network (<span style=\"color:green\">1.5 points</span>)\n",
    "\n",
    "In this assignment, we will train our model using mini-batch gradient descent with momentum:  <br>\n",
    "\n",
    "$$\n",
    "v_{dW} = \\beta v_{dW} + (1 - \\beta) dW \\tag{28}\n",
    "$$\n",
    "\n",
    "$$\n",
    "W = W - \\alpha v_{dW} \\tag{29}\n",
    "$$\n",
    "\n",
    "where $\\alpha$ is the learning rate while $\\beta$ is used to update the learning velocity.\n",
    "\n",
    "To know more about this optimization algorithm, please check out e.g. this excellent [video](https://www.youtube.com/watch?v=k8fTYJPd3_I) from Dr. Andrew Ng."
   ]
  },
  {
   "cell_type": "markdown",
   "metadata": {
    "id": "V8KkLvNoOIVc"
   },
   "source": [
    "Now, fill in the missing parts in the following function that performs a single training step from forward propagation to updating the model parameters."
   ]
  },
  {
   "cell_type": "code",
   "execution_count": 151,
   "metadata": {
    "id": "uHjawCNWnA5d"
   },
   "outputs": [],
   "source": [
    "def training_step(X, Y, parameters, velocity, learning_rate, beta, weight_decay_lambda=0.):\n",
    "    \"\"\"Method for each training step.\n",
    "    Args:\n",
    "        X (np.array): training data\n",
    "        Y (np.array): ground truth labels of training data\n",
    "        parameters (tuple): model parameters: W1, W2, W3\n",
    "        velocity (tuple): learning velocity of momentum: V_dW1, V_dW2, V_dW3\n",
    "        learning_rate (float): learning rate for training\n",
    "        beta (float): coefficient for updating the learning velocity\n",
    "        weight_decay_lambda (float): coefficient for weight decay (an extra feature that will be defined later)\n",
    "\n",
    "    Returns:\n",
    "        tuple: loss, updated parameters, updated velocity\n",
    "    \"\"\"\n",
    "\n",
    "    W1, W2, W3 = parameters\n",
    "\n",
    "    # Forward propagation\n",
    "    outputs = forward_propagation(X, parameters)\n",
    "    A3 = outputs[-1]\n",
    "\n",
    "    # Loss computation and backward propagation\n",
    "    if weight_decay_lambda == 0.:\n",
    "        loss = cross_entropy_loss(Y, A3)\n",
    "        dW1, dW2, dW3 = backward_propagation(X, Y, parameters, outputs)\n",
    "    else:\n",
    "        # Loss and backpropagation with weight decay are extra tasks introduced in part 4.1\n",
    "        loss = cross_entropy_loss(Y, A3) + weight_decay_loss(parameters, weight_decay_lambda)\n",
    "        dW1, dW2, dW3 = backward_propagation_with_weight_decay(X, Y, parameters, outputs, weight_decay_lambda)\n",
    "\n",
    "    V_dW1, V_dW2, V_dW3 = velocity\n",
    "\n",
    "    # Model parameter update\n",
    "    # TODO: update the learning velocity using Eq. 28 (0.75 points)\n",
    "    V_dW1 = beta * V_dW1 + (1 - beta) * dW1\n",
    "    V_dW2 = beta * V_dW2 + (1 - beta) * dW2\n",
    "    V_dW3 = beta * V_dW3 + (1 - beta) * dW3\n",
    "\n",
    "    # TODO: update the model parameters using Eq. 29 (0.75 points)\n",
    "    W1 = W1 - learning_rate * V_dW1\n",
    "    W2 = W2 - learning_rate * V_dW2\n",
    "    W3 = W3 - learning_rate * V_dW3\n",
    "\n",
    "    parameters = W1, W2, W3\n",
    "    velocity = V_dW1, V_dW2, V_dW3\n",
    "\n",
    "    return loss, parameters, velocity"
   ]
  },
  {
   "cell_type": "markdown",
   "metadata": {
    "id": "hf3fuNyfQKGA"
   },
   "source": [
    "Let's define the function for training our model."
   ]
  },
  {
   "cell_type": "code",
   "execution_count": 153,
   "metadata": {
    "id": "4W6M4TxmnA5d",
    "scrolled": true
   },
   "outputs": [],
   "source": [
    "def training_model(parameters, velocity, batch_size, epoch, learning_rate, beta, weight_decay_lambda=0.):\n",
    "\n",
    "    # Calculate the number of training iterations base on the number of training samples and your batch size\n",
    "    num_batches = num_trains // batch_size\n",
    "    print('Start training the model:')\n",
    "    print('Number of training samples: {}'.format(num_trains))\n",
    "    print('Number of batchs: {}'.format(num_batches))\n",
    "\n",
    "    loss_log = [] # Log the training loss\n",
    "\n",
    "    # Training\n",
    "    for i in range(epoch):\n",
    "        start_t = time.time()\n",
    "\n",
    "        indices = np.random.permutation(num_trains)\n",
    "        X_train_shuffled, Y_train_shuffled = X_train[:, indices], Y_train[:, indices]\n",
    "\n",
    "        for j in range(num_batches):\n",
    "\n",
    "            # Get mini-batch samples for training\n",
    "            start_idx, end_idx = j * batch_size, min(j * batch_size + batch_size, X_train.shape[1] - 1)\n",
    "            X, Y = X_train_shuffled[:, start_idx : end_idx], Y_train_shuffled[:, start_idx : end_idx]\n",
    "\n",
    "            # Call training_step()\n",
    "            loss, parameters, velocity = training_step(X, Y, parameters, velocity, learning_rate, beta, weight_decay_lambda)\n",
    "\n",
    "            loss_log.append(loss)\n",
    "            if (j > 0 and j % 200 == 0):\n",
    "                print(\"[Epoch][Iterations]:[{}/{}][{}/{}], loss: {}\".format(i, epoch, j, num_batches, loss))\n",
    "\n",
    "        print(\"=> Epoch {}, elapsed time: {:.2f} seconds\".format(i, time.time() - start_t))\n",
    "\n",
    "    plt.title('Training loss:')\n",
    "    plt.plot(loss_log)\n",
    "    plt.show()\n",
    "\n",
    "    return parameters"
   ]
  },
  {
   "cell_type": "markdown",
   "metadata": {
    "id": "PQMYaTGZQruI"
   },
   "source": [
    "Finally, we initialize the model and train the model with default parameters."
   ]
  },
  {
   "cell_type": "code",
   "execution_count": 155,
   "metadata": {
    "colab": {
     "base_uri": "https://localhost:8080/",
     "height": 1000
    },
    "id": "uiMGAdhvnA5d",
    "outputId": "fa87ba0f-181d-4a94-d6cb-79ed31b2a85d",
    "scrolled": false
   },
   "outputs": [
    {
     "name": "stdout",
     "output_type": "stream",
     "text": [
      "Start training the model:\n",
      "Number of training samples: 60000\n",
      "Number of batchs: 468\n",
      "[Epoch][Iterations]:[0/30][200/468], loss: 1.6988037341578606\n",
      "[Epoch][Iterations]:[0/30][400/468], loss: 1.2415276980113914\n",
      "=> Epoch 0, elapsed time: 0.29 seconds\n",
      "[Epoch][Iterations]:[1/30][200/468], loss: 0.9833254952969528\n",
      "[Epoch][Iterations]:[1/30][400/468], loss: 0.8669729803858799\n",
      "=> Epoch 1, elapsed time: 0.33 seconds\n",
      "[Epoch][Iterations]:[2/30][200/468], loss: 0.5983534104854615\n",
      "[Epoch][Iterations]:[2/30][400/468], loss: 0.5123567384884935\n",
      "=> Epoch 2, elapsed time: 0.36 seconds\n",
      "[Epoch][Iterations]:[3/30][200/468], loss: 0.6135723264901931\n",
      "[Epoch][Iterations]:[3/30][400/468], loss: 0.4846003002966086\n",
      "=> Epoch 3, elapsed time: 0.40 seconds\n",
      "[Epoch][Iterations]:[4/30][200/468], loss: 0.5620245644813485\n",
      "[Epoch][Iterations]:[4/30][400/468], loss: 0.45041753818451746\n",
      "=> Epoch 4, elapsed time: 0.43 seconds\n",
      "[Epoch][Iterations]:[5/30][200/468], loss: 0.5642975876448796\n",
      "[Epoch][Iterations]:[5/30][400/468], loss: 0.4568485316737394\n",
      "=> Epoch 5, elapsed time: 0.38 seconds\n",
      "[Epoch][Iterations]:[6/30][200/468], loss: 0.5303858044157426\n",
      "[Epoch][Iterations]:[6/30][400/468], loss: 0.5106982093655508\n",
      "=> Epoch 6, elapsed time: 0.41 seconds\n",
      "[Epoch][Iterations]:[7/30][200/468], loss: 0.3801230691188203\n",
      "[Epoch][Iterations]:[7/30][400/468], loss: 0.4371805078158577\n",
      "=> Epoch 7, elapsed time: 0.51 seconds\n",
      "[Epoch][Iterations]:[8/30][200/468], loss: 0.4631323858181987\n",
      "[Epoch][Iterations]:[8/30][400/468], loss: 0.46077837217133055\n",
      "=> Epoch 8, elapsed time: 0.33 seconds\n",
      "[Epoch][Iterations]:[9/30][200/468], loss: 0.6522514511767279\n",
      "[Epoch][Iterations]:[9/30][400/468], loss: 0.6142702778001211\n",
      "=> Epoch 9, elapsed time: 0.33 seconds\n",
      "[Epoch][Iterations]:[10/30][200/468], loss: 0.4844657710505159\n",
      "[Epoch][Iterations]:[10/30][400/468], loss: 0.3670344465133696\n",
      "=> Epoch 10, elapsed time: 0.31 seconds\n",
      "[Epoch][Iterations]:[11/30][200/468], loss: 0.30408664638553523\n",
      "[Epoch][Iterations]:[11/30][400/468], loss: 0.5549890932900013\n",
      "=> Epoch 11, elapsed time: 0.35 seconds\n",
      "[Epoch][Iterations]:[12/30][200/468], loss: 0.4552900183415496\n",
      "[Epoch][Iterations]:[12/30][400/468], loss: 0.47295622653178815\n",
      "=> Epoch 12, elapsed time: 0.33 seconds\n",
      "[Epoch][Iterations]:[13/30][200/468], loss: 0.4488292579687009\n",
      "[Epoch][Iterations]:[13/30][400/468], loss: 0.36728050247694133\n",
      "=> Epoch 13, elapsed time: 0.45 seconds\n",
      "[Epoch][Iterations]:[14/30][200/468], loss: 0.35697277924731236\n",
      "[Epoch][Iterations]:[14/30][400/468], loss: 0.48287183078048235\n",
      "=> Epoch 14, elapsed time: 0.33 seconds\n",
      "[Epoch][Iterations]:[15/30][200/468], loss: 0.44015655001562476\n",
      "[Epoch][Iterations]:[15/30][400/468], loss: 0.4960221711384774\n",
      "=> Epoch 15, elapsed time: 0.37 seconds\n",
      "[Epoch][Iterations]:[16/30][200/468], loss: 0.3804922451657994\n",
      "[Epoch][Iterations]:[16/30][400/468], loss: 0.5146060349377933\n",
      "=> Epoch 16, elapsed time: 0.36 seconds\n",
      "[Epoch][Iterations]:[17/30][200/468], loss: 0.5292224026851381\n",
      "[Epoch][Iterations]:[17/30][400/468], loss: 0.46103678400846126\n",
      "=> Epoch 17, elapsed time: 0.38 seconds\n",
      "[Epoch][Iterations]:[18/30][200/468], loss: 0.46523220169052554\n",
      "[Epoch][Iterations]:[18/30][400/468], loss: 0.3963306217181567\n",
      "=> Epoch 18, elapsed time: 0.56 seconds\n",
      "[Epoch][Iterations]:[19/30][200/468], loss: 0.47673219696427216\n",
      "[Epoch][Iterations]:[19/30][400/468], loss: 0.322481425808539\n",
      "=> Epoch 19, elapsed time: 0.33 seconds\n",
      "[Epoch][Iterations]:[20/30][200/468], loss: 0.412325439017147\n",
      "[Epoch][Iterations]:[20/30][400/468], loss: 0.3962476932974628\n",
      "=> Epoch 20, elapsed time: 0.37 seconds\n",
      "[Epoch][Iterations]:[21/30][200/468], loss: 0.473846883195658\n",
      "[Epoch][Iterations]:[21/30][400/468], loss: 0.5193215520664703\n",
      "=> Epoch 21, elapsed time: 0.32 seconds\n",
      "[Epoch][Iterations]:[22/30][200/468], loss: 0.37936763393682227\n",
      "[Epoch][Iterations]:[22/30][400/468], loss: 0.4822648131093495\n",
      "=> Epoch 22, elapsed time: 0.41 seconds\n",
      "[Epoch][Iterations]:[23/30][200/468], loss: 0.4506492711972282\n",
      "[Epoch][Iterations]:[23/30][400/468], loss: 0.3465758372825173\n",
      "=> Epoch 23, elapsed time: 0.35 seconds\n",
      "[Epoch][Iterations]:[24/30][200/468], loss: 0.49658660470892463\n",
      "[Epoch][Iterations]:[24/30][400/468], loss: 0.48285938984733334\n",
      "=> Epoch 24, elapsed time: 0.32 seconds\n",
      "[Epoch][Iterations]:[25/30][200/468], loss: 0.2988792236880661\n",
      "[Epoch][Iterations]:[25/30][400/468], loss: 0.3795987358547409\n",
      "=> Epoch 25, elapsed time: 0.35 seconds\n",
      "[Epoch][Iterations]:[26/30][200/468], loss: 0.2814158169609535\n",
      "[Epoch][Iterations]:[26/30][400/468], loss: 0.4306484374264857\n",
      "=> Epoch 26, elapsed time: 0.35 seconds\n",
      "[Epoch][Iterations]:[27/30][200/468], loss: 0.36578035751013993\n",
      "[Epoch][Iterations]:[27/30][400/468], loss: 0.45414062777947106\n",
      "=> Epoch 27, elapsed time: 0.42 seconds\n",
      "[Epoch][Iterations]:[28/30][200/468], loss: 0.594200882094454\n",
      "[Epoch][Iterations]:[28/30][400/468], loss: 0.3234762457206771\n",
      "=> Epoch 28, elapsed time: 0.44 seconds\n",
      "[Epoch][Iterations]:[29/30][200/468], loss: 0.4026005924864142\n",
      "[Epoch][Iterations]:[29/30][400/468], loss: 0.4425361944140299\n",
      "=> Epoch 29, elapsed time: 0.34 seconds\n"
     ]
    },
    {
     "data": {
      "image/png": "[encoded data removed]",
      "text/plain": [
       "<Figure size 432x288 with 1 Axes>"
      ]
     },
     "metadata": {
      "needs_background": "light"
     },
     "output_type": "display_data"
    }
   ],
   "source": [
    "np.random.seed(1)\n",
    "\n",
    "parameters, velocity = init_parameters(\n",
    "    num_inputs = X_train.shape[0],\n",
    "    num_hidden_1 = 10,\n",
    "    num_hidden_2 = 6,\n",
    "    num_outputs = num_classes,\n",
    ")\n",
    "\n",
    "trained_parameters = training_model(\n",
    "    parameters,\n",
    "    velocity,\n",
    "    batch_size = 128,\n",
    "    epoch = 30,\n",
    "    learning_rate = 0.25,\n",
    "    beta = 0.5,\n",
    "    weight_decay_lambda = 0.,\n",
    ")"
   ]
  },
  {
   "cell_type": "markdown",
   "metadata": {
    "id": "ONG48w-ynA5d"
   },
   "source": [
    "### 3.2 Evaluate the performance of your model (<span style=\"color:green\">0.5 points</span>)"
   ]
  },
  {
   "cell_type": "markdown",
   "metadata": {
    "id": "OLgMhvfQRJDy"
   },
   "source": [
    "Implement the forward propagation step for testing the model performance in the code cell below."
   ]
  },
  {
   "cell_type": "code",
   "execution_count": 156,
   "metadata": {
    "id": "OSJjyzQonA5e"
   },
   "outputs": [],
   "source": [
    "def testing_model(X, parameters):\n",
    "    # TODO: implement the forward propagation for testing step (0.5 points)\n",
    "    # Hint: call forward_propagation() function and get the output A3\n",
    "    A3 = forward_propagation(X, parameters)[-1]\n",
    "\n",
    "    # Evaluate the performance of your model\n",
    "    predictions = np.argmax(A3, axis=0)\n",
    "    labels = np.argmax(Y_test, axis=0)\n",
    "\n",
    "    print(\"Confusion matrix:\\n{}\\n\".format(confusion_matrix(labels, predictions)))\n",
    "    print(\"Test accuracy: {}\".format(accuracy_score(labels, predictions)))"
   ]
  },
  {
   "cell_type": "markdown",
   "metadata": {
    "id": "9LgmEJCsRVHH"
   },
   "source": [
    "Let's test the accuracy of our model."
   ]
  },
  {
   "cell_type": "code",
   "execution_count": 157,
   "metadata": {
    "colab": {
     "base_uri": "https://localhost:8080/"
    },
    "id": "rV91hnY_nA5e",
    "outputId": "abd96c44-b132-4ee9-9374-35a52e583be5",
    "scrolled": false
   },
   "outputs": [
    {
     "name": "stdout",
     "output_type": "stream",
     "text": [
      "Confusion matrix:\n",
      "[[849   1  23  22   2   5  85   0  13   0]\n",
      " [  8 954   8  23   3   0   1   0   1   2]\n",
      " [ 17   3 818   4  67   3  77   0  11   0]\n",
      " [ 56  24  27 818  34   2  36   0   3   0]\n",
      " [  0   3 237  28 646   1  80   0   5   0]\n",
      " [  2   0   0   0   0 927   1  39   5  26]\n",
      " [198   3 131  22  74   5 548   0  19   0]\n",
      " [  0   0   0   0   0  24   0 940   0  36]\n",
      " [  7   0   9   4   6  14  20   5 933   2]\n",
      " [  0   1   0   0   0  12   0  41   1 945]]\n",
      "\n",
      "Test accuracy: 0.8378\n"
     ]
    }
   ],
   "source": [
    "testing_model(X_test, trained_parameters)"
   ]
  },
  {
   "cell_type": "markdown",
   "metadata": {
    "id": "sAnEtMn4Ybdi"
   },
   "source": [
    "The test accuracy should be around 0.70."
   ]
  },
  {
   "cell_type": "markdown",
   "metadata": {
    "id": "B1kOSmvRnA5e"
   },
   "source": [
    "## Part 4: Regularization and hyperparameter tuning (<span style=\"color:green\">2.5 points</span>)"
   ]
  },
  {
   "cell_type": "markdown",
   "metadata": {
    "id": "hn_l95QgnA5e"
   },
   "source": [
    "### 4.1 Implement weight decay loss and backward propagation  (<span style=\"color:green\">1.5 points</span>)"
   ]
  },
  {
   "cell_type": "markdown",
   "metadata": {
    "id": "jsfGvujunA5e"
   },
   "source": [
    "[Regularization](https://en.wikipedia.org/wiki/Regularization_(mathematics)) is a set of techniques in deep learning to prevent overfitting by adding a penalty term to the loss function, discouraging overly complex models, and promoting simpler, more generalizable ones. The loss function in regularization incorporates additional terms, like L1 or L2 regularization, which penalize large weights or complex models to prevent overfitting."
   ]
  },
  {
   "cell_type": "markdown",
   "metadata": {
    "id": "OE3xlY-KnA5e"
   },
   "source": [
    "To implement weight decay (L2) regularization in our neural network, we can modify the loss function as follows:\n",
    "\n",
    "$$\n",
    "\\begin{align}\n",
    "L &= L_1 + L_2 \\tag{30} \\\\\n",
    "\\\\\n",
    "L_1 &= {\\rm cross\\_entropy}(Y, A_3) \\tag{31} \\\\\n",
    "L_2 &= \\frac{\\lambda}{2} \\left( ||W_1||_2^2 + ||W_2||_2^2 + ||W_3||_2^2 \\right) \\tag{32}\n",
    "\\end{align}\n",
    "$$\n",
    "\n",
    "Here $L_2$ denotes the weight decay loss, and $||\\cdot||_2^2$ is the [L2 regularization](https://en.wikipedia.org/wiki/Regularization_(mathematics)). For example, $||W_1||_2^2$ is calculated by:\n",
    "$$\n",
    "||W_1||_2^2 = \\sum_{i=1}^{N}\\sum_{j=1}^{M}{W_1^{(ij)}}^2\n",
    "$$\n",
    "which directly sums the squares of all elements in $W_1$."
   ]
  },
  {
   "cell_type": "markdown",
   "metadata": {
    "id": "mZrlRY1JR8Pi"
   },
   "source": [
    "Implement the weight decay loss in the code cell below."
   ]
  },
  {
   "cell_type": "code",
   "execution_count": 161,
   "metadata": {
    "id": "L2kmwhrYnA5e"
   },
   "outputs": [],
   "source": [
    "def weight_decay_loss(parameters, lambd):\n",
    "    \"\"\"\n",
    "    Args:\n",
    "        parameters (tuple): model parameters: W1, W2, W3\n",
    "        lambd (float): coefficient of weight decay\n",
    "    \"\"\"\n",
    "    W1, W2, W3 = parameters\n",
    "\n",
    "    # TODO: implement the weight decay loss in Eq. 32 (0.75 points)\n",
    "    # Hint: use np.sum() and np.power()\n",
    "    \n",
    "    lambd = lambd * 10000\n",
    "    \n",
    "    L2_W1 = np.sum(np.power(W1, 2))\n",
    "    L2_W2 = np.sum(np.power(W2, 2))\n",
    "    L2_W3 = np.sum(np.power(W3, 2))\n",
    "    \n",
    "    L2_loss = (lambd / 2) * (L2_W1 + L2_W2 + L2_W3) \n",
    "    \n",
    "    \n",
    "    return L2_loss"
   ]
  },
  {
   "cell_type": "markdown",
   "metadata": {
    "id": "uHMb6P89ScYO"
   },
   "source": [
    "Check whether your output matches the reference results."
   ]
  },
  {
   "cell_type": "code",
   "execution_count": 162,
   "metadata": {
    "colab": {
     "base_uri": "https://localhost:8080/"
    },
    "id": "CsfU7zfMnA5e",
    "outputId": "9d04d350-1643-41b1-dfa0-cd229cfd2d33"
   },
   "outputs": [
    {
     "name": "stdout",
     "output_type": "stream",
     "text": [
      "loss: 0.3972738208879281\n"
     ]
    }
   ],
   "source": [
    "np.random.seed(1)\n",
    "parameters, _ = init_parameters(num_inputs, num_hidden_1, num_hidden_2, num_outputs)\n",
    "\n",
    "loss = weight_decay_loss(parameters, lambd=0.0001)\n",
    "print('loss:', loss)"
   ]
  },
  {
   "cell_type": "markdown",
   "metadata": {
    "id": "VG9cclqznA5e"
   },
   "source": [
    "**<span style=\"color:green\">Reference Results:</span>** <br>\n",
    "loss: 0.3972738208879281"
   ]
  },
  {
   "cell_type": "markdown",
   "metadata": {
    "id": "7yXVoaBinA5e"
   },
   "source": [
    "Since we now use a new loss function $L$, we need to calculate the derivative $L$ with respect to $W_1, W_2, W_3$ for backward propagation again.\n",
    "\n",
    "Take $W_1$ as an example, the derivative of $L$ with respect to $W_1$ is calculated by:\n",
    "$$\n",
    "\\begin{align}\n",
    "d W_{1(new)} &= \\frac{\\partial L}{\\partial W_1} = \\frac{\\partial L_1}{\\partial W_1} + \\frac{\\partial L_2}{\\partial W_1} = dW_1 + \\lambda W_1 \\tag{33}\n",
    "\\end{align}\n",
    "$$\n",
    "\n",
    "Here $dW_1$ is the previous derivative same as Eq. 23."
   ]
  },
  {
   "cell_type": "markdown",
   "metadata": {
    "id": "mVarg1j0S3WD"
   },
   "source": [
    "Now, complete the function for performing backpropagation with weight decay."
   ]
  },
  {
   "cell_type": "code",
   "execution_count": 166,
   "metadata": {
    "id": "2R_nzvD5nA5e"
   },
   "outputs": [],
   "source": [
    "def backward_propagation_with_weight_decay(X, Y, parameters, outputs, lambd):\n",
    "    \"\"\"Method for forward propagation.\n",
    "    Args:\n",
    "        X (np.array): input data\n",
    "        Y (np.array): ground truth labels of input data\n",
    "        parameters (tuple): model parameters: W1, W2, W3\n",
    "        outputs (tuple): cached outputs of forward propagation: Z1, A1, Z2, A2, Z3, A3\n",
    "        lambd (float): coefficient of weight decay\n",
    "\n",
    "    Returns:\n",
    "        tuple: computed gradients: dW1, dW2, dW3\n",
    "    \"\"\"\n",
    "\n",
    "    W1, W2, W3 = parameters\n",
    "    dW1, dW2, dW3 = backward_propagation(X, Y, parameters, outputs)\n",
    "\n",
    "    # TODO: calculate the new derivative of L with respect to W1, W2 and W3 based on Eq. 33 (0.75 points)\n",
    "    \n",
    "    dW3_new = abs(dW1 + lambd * W1)\n",
    "    dW2_new = abs(dW2 + lambd * W2)\n",
    "    dW1_new = abs(dW3 + lambd * W3)\n",
    "\n",
    "    return dW1_new, dW2_new, dW3_new"
   ]
  },
  {
   "cell_type": "markdown",
   "metadata": {
    "id": "Xx3UgK9LT5ft"
   },
   "source": [
    "Check whether your output matches the reference results."
   ]
  },
  {
   "cell_type": "code",
   "execution_count": 170,
   "metadata": {
    "colab": {
     "base_uri": "https://localhost:8080/"
    },
    "id": "lBekxUNKnA5f",
    "outputId": "07a4561e-2b8c-4034-cfa9-e8ca91161e8a",
    "scrolled": true
   },
   "outputs": [
    {
     "name": "stdout",
     "output_type": "stream",
     "text": [
      "\n",
      "Example results in dW3 (new):\n",
      "[9.52515026e-04 1.89067615e-07 4.88128651e-04 1.14593066e-03\n",
      " 1.85780211e-03 1.05074359e-06 1.29010695e-03 4.55281440e-07\n",
      " 7.96228659e-04 6.79302100e-04]\n",
      "\n",
      "Example results in dW2 (new):\n",
      "[0.00684258 0.00677225 0.0030146  0.00453048 0.00347292 0.00354652]\n",
      "\n",
      "Example results in dW1 (new):\n",
      "[0.01264482 0.01264541 0.01264404 0.01264491 0.01264488 0.01264536\n",
      " 0.01264436 0.01264389 0.01264445 0.01264446]\n"
     ]
    }
   ],
   "source": [
    "np.random.seed(1)\n",
    "X = np.random.randn(num_inputs, 2)\n",
    "Y = np.random.randint(1, num_classes, (2, ))\n",
    "\n",
    "parameters, _ = init_parameters(num_inputs, num_hidden_1, num_hidden_2, num_outputs)\n",
    "outputs = forward_propagation(X, parameters)\n",
    "dW1_new, dW2_new, dW3_new = backward_propagation_with_weight_decay(X, Y, parameters, outputs, lambd=0.0001)\n",
    "\n",
    "print('\\nExample results in dW3 (new):')\n",
    "print(dW3_new[:, 0])\n",
    "\n",
    "print('\\nExample results in dW2 (new):')\n",
    "print(dW2_new[:, 0])\n",
    "\n",
    "print('\\nExample results in dW1 (new):')\n",
    "print(dW1_new[:, 0])"
   ]
  },
  {
   "cell_type": "markdown",
   "metadata": {
    "id": "xwi7D1-2nA5f"
   },
   "source": [
    "**<span style=\"color:green\">Reference Results:</span>** <br>\n",
    "Example results in dW3 (new):<br>\n",
    "[4.99417602 4.81002709 4.51013425 4.99769988 4.93467474 4.99422092<br>\n",
    " 4.81371188 4.98254415 4.99662634 4.96574142]<br>\n",
    "\n",
    "Example results in dW2 (new):<br>\n",
    "[ 1.78778996e-04  1.80471533e-05  5.78735665e-05 -7.65603509e-05<br>\n",
    "  3.89918617e-05  5.60040836e-06]<br>\n",
    "\n",
    "Example results in dW1 (new):<br>\n",
    "[ 5.51204348e-05  1.89067615e-05 -1.87286483e-05 -2.72250057e-05<br>\n",
    "  2.10901799e-04  1.05074359e-04 -3.10534150e-05  4.55281440e-05<br>\n",
    "  7.14239094e-05  1.88094599e-04]<br>"
   ]
  },
  {
   "cell_type": "markdown",
   "metadata": {
    "id": "FTtoVhwxnA5f"
   },
   "source": [
    "### 4.2 Hyperparameter tuning (<span style=\"color:green\">1 point</span>)"
   ]
  },
  {
   "cell_type": "markdown",
   "metadata": {
    "id": "HW7txgbcnA5f"
   },
   "source": [
    "[Hyperparameter tuning](https://en.wikipedia.org/wiki/Hyperparameter_optimization) is an effective way to optimize the performance of your models in machine learning.\n",
    "\n",
    "In the case of our neural network, we can adjust many hyperparameters, such as learning rate, batch size, weight decay coefficient, number of training epochs, and the model architecture (i.e. number of neurons in the hidden layers)."
   ]
  },
  {
   "cell_type": "markdown",
   "metadata": {
    "id": "_9mtu6pwUcDo"
   },
   "source": [
    "Play with the hyperparameters and try to improve the performance (test accuracy) of your neural network above 0.80."
   ]
  },
  {
   "cell_type": "code",
   "execution_count": 188,
   "metadata": {
    "colab": {
     "base_uri": "https://localhost:8080/",
     "height": 1000
    },
    "id": "smNNZCL6nA5f",
    "outputId": "04625b23-c80f-4f8c-b042-c50284ccb001",
    "scrolled": true
   },
   "outputs": [
    {
     "name": "stdout",
     "output_type": "stream",
     "text": [
      "Start training the model:\n",
      "Number of training samples: 60000\n",
      "Number of batchs: 468\n",
      "[Epoch][Iterations]:[0/30][200/468], loss: 2.279404008593956\n",
      "[Epoch][Iterations]:[0/30][400/468], loss: 1.2102757978901812\n",
      "=> Epoch 0, elapsed time: 0.28 seconds\n",
      "[Epoch][Iterations]:[1/30][200/468], loss: 1.022915576439643\n",
      "[Epoch][Iterations]:[1/30][400/468], loss: 0.7309065217255504\n",
      "=> Epoch 1, elapsed time: 0.31 seconds\n",
      "[Epoch][Iterations]:[2/30][200/468], loss: 0.6874868415970738\n",
      "[Epoch][Iterations]:[2/30][400/468], loss: 0.667186125466934\n",
      "=> Epoch 2, elapsed time: 0.32 seconds\n",
      "[Epoch][Iterations]:[3/30][200/468], loss: 0.7491363894986163\n",
      "[Epoch][Iterations]:[3/30][400/468], loss: 0.6589206879392571\n",
      "=> Epoch 3, elapsed time: 0.31 seconds\n",
      "[Epoch][Iterations]:[4/30][200/468], loss: 0.5821173929446325\n",
      "[Epoch][Iterations]:[4/30][400/468], loss: 0.6027677444458285\n",
      "=> Epoch 4, elapsed time: 0.33 seconds\n",
      "[Epoch][Iterations]:[5/30][200/468], loss: 0.6258544523220533\n",
      "[Epoch][Iterations]:[5/30][400/468], loss: 0.5109110082186143\n",
      "=> Epoch 5, elapsed time: 0.32 seconds\n",
      "[Epoch][Iterations]:[6/30][200/468], loss: 0.4951729300622525\n",
      "[Epoch][Iterations]:[6/30][400/468], loss: 0.5182860799586213\n",
      "=> Epoch 6, elapsed time: 0.35 seconds\n",
      "[Epoch][Iterations]:[7/30][200/468], loss: 0.45385937381875413\n",
      "[Epoch][Iterations]:[7/30][400/468], loss: 0.5708990613954092\n",
      "=> Epoch 7, elapsed time: 0.32 seconds\n",
      "[Epoch][Iterations]:[8/30][200/468], loss: 0.48646970975303216\n",
      "[Epoch][Iterations]:[8/30][400/468], loss: 0.497711219557038\n",
      "=> Epoch 8, elapsed time: 0.36 seconds\n",
      "[Epoch][Iterations]:[9/30][200/468], loss: 0.45900906972229566\n",
      "[Epoch][Iterations]:[9/30][400/468], loss: 0.3977165948548064\n",
      "=> Epoch 9, elapsed time: 0.31 seconds\n",
      "[Epoch][Iterations]:[10/30][200/468], loss: 0.49937220282777717\n",
      "[Epoch][Iterations]:[10/30][400/468], loss: 0.3918316737652315\n",
      "=> Epoch 10, elapsed time: 0.40 seconds\n",
      "[Epoch][Iterations]:[11/30][200/468], loss: 0.43685900339679906\n",
      "[Epoch][Iterations]:[11/30][400/468], loss: 0.38731717775043883\n",
      "=> Epoch 11, elapsed time: 0.31 seconds\n",
      "[Epoch][Iterations]:[12/30][200/468], loss: 0.47149902450453585\n",
      "[Epoch][Iterations]:[12/30][400/468], loss: 0.3735595090500571\n",
      "=> Epoch 12, elapsed time: 0.36 seconds\n",
      "[Epoch][Iterations]:[13/30][200/468], loss: 0.5081411028028517\n",
      "[Epoch][Iterations]:[13/30][400/468], loss: 0.3802659594796816\n",
      "=> Epoch 13, elapsed time: 0.36 seconds\n",
      "[Epoch][Iterations]:[14/30][200/468], loss: 0.5065199269275302\n",
      "[Epoch][Iterations]:[14/30][400/468], loss: 0.41980189390085343\n",
      "=> Epoch 14, elapsed time: 0.37 seconds\n",
      "[Epoch][Iterations]:[15/30][200/468], loss: 0.4008612243524049\n",
      "[Epoch][Iterations]:[15/30][400/468], loss: 0.42321452671302884\n",
      "=> Epoch 15, elapsed time: 0.37 seconds\n",
      "[Epoch][Iterations]:[16/30][200/468], loss: 0.557078678916241\n",
      "[Epoch][Iterations]:[16/30][400/468], loss: 0.6039438150036087\n",
      "=> Epoch 16, elapsed time: 0.32 seconds\n",
      "[Epoch][Iterations]:[17/30][200/468], loss: 0.3718110128050971\n",
      "[Epoch][Iterations]:[17/30][400/468], loss: 0.30834471390367985\n",
      "=> Epoch 17, elapsed time: 0.32 seconds\n",
      "[Epoch][Iterations]:[18/30][200/468], loss: 0.4379390436604029\n",
      "[Epoch][Iterations]:[18/30][400/468], loss: 0.5242578481218785\n",
      "=> Epoch 18, elapsed time: 0.42 seconds\n",
      "[Epoch][Iterations]:[19/30][200/468], loss: 0.5633241823829195\n",
      "[Epoch][Iterations]:[19/30][400/468], loss: 0.4021547010765564\n",
      "=> Epoch 19, elapsed time: 0.31 seconds\n",
      "[Epoch][Iterations]:[20/30][200/468], loss: 0.6378298188665128\n",
      "[Epoch][Iterations]:[20/30][400/468], loss: 0.3632668233317864\n",
      "=> Epoch 20, elapsed time: 0.33 seconds\n",
      "[Epoch][Iterations]:[21/30][200/468], loss: 0.4884052452573624\n",
      "[Epoch][Iterations]:[21/30][400/468], loss: 0.3823430322976942\n",
      "=> Epoch 21, elapsed time: 0.30 seconds\n",
      "[Epoch][Iterations]:[22/30][200/468], loss: 0.5625207661863691\n",
      "[Epoch][Iterations]:[22/30][400/468], loss: 0.4896366126718008\n",
      "=> Epoch 22, elapsed time: 0.34 seconds\n",
      "[Epoch][Iterations]:[23/30][200/468], loss: 0.5334978459064317\n",
      "[Epoch][Iterations]:[23/30][400/468], loss: 0.44175226308388393\n",
      "=> Epoch 23, elapsed time: 0.30 seconds\n",
      "[Epoch][Iterations]:[24/30][200/468], loss: 0.3168960511904698\n",
      "[Epoch][Iterations]:[24/30][400/468], loss: 0.38536004756592124\n",
      "=> Epoch 24, elapsed time: 0.33 seconds\n",
      "[Epoch][Iterations]:[25/30][200/468], loss: 0.36710441499860236\n",
      "[Epoch][Iterations]:[25/30][400/468], loss: 0.42283332209038316\n",
      "=> Epoch 25, elapsed time: 0.33 seconds\n",
      "[Epoch][Iterations]:[26/30][200/468], loss: 0.45517681697459567\n",
      "[Epoch][Iterations]:[26/30][400/468], loss: 0.37179261135531805\n",
      "=> Epoch 26, elapsed time: 0.33 seconds\n",
      "[Epoch][Iterations]:[27/30][200/468], loss: 0.41260053774381783\n",
      "[Epoch][Iterations]:[27/30][400/468], loss: 0.4781802718916224\n",
      "=> Epoch 27, elapsed time: 0.32 seconds\n",
      "[Epoch][Iterations]:[28/30][200/468], loss: 0.29223357873300915\n",
      "[Epoch][Iterations]:[28/30][400/468], loss: 0.46234083972925877\n",
      "=> Epoch 28, elapsed time: 0.35 seconds\n",
      "[Epoch][Iterations]:[29/30][200/468], loss: 0.46534469165083203\n",
      "[Epoch][Iterations]:[29/30][400/468], loss: 0.499981711358144\n",
      "=> Epoch 29, elapsed time: 0.31 seconds\n"
     ]
    },
    {
     "data": {
      "image/png": "[encoded data removed]",
      "text/plain": [
       "<Figure size 432x288 with 1 Axes>"
      ]
     },
     "metadata": {
      "needs_background": "light"
     },
     "output_type": "display_data"
    }
   ],
   "source": [
    "# TODO: adjust the values of hyperparameters below and try to improve the test accuracy. (1 point)\n",
    "# Hint: try to adjust 'num_hidden_X', 'weight_decay_lambda' and/or other hyperparameters\n",
    "\n",
    "parameters, velocity = init_parameters(\n",
    "    num_inputs = X_train.shape[0],\n",
    "    num_hidden_1 = 10,\n",
    "    num_hidden_2 = 7,\n",
    "    num_outputs=num_classes\n",
    ")\n",
    "\n",
    "trained_parameters = training_model(\n",
    "    parameters,\n",
    "    velocity,\n",
    "    batch_size = 128,\n",
    "    epoch = 30,\n",
    "    learning_rate = 0.25,\n",
    "    beta = 0.5,\n",
    "    weight_decay_lambda = 0.0,\n",
    ")"
   ]
  },
  {
   "cell_type": "code",
   "execution_count": 189,
   "metadata": {
    "colab": {
     "base_uri": "https://localhost:8080/"
    },
    "id": "gizmQn3knA5f",
    "outputId": "c4a8865d-acc5-47ca-c2dd-7b833a048e24"
   },
   "outputs": [
    {
     "name": "stdout",
     "output_type": "stream",
     "text": [
      "Confusion matrix:\n",
      "[[807   7  12 102   3   1  57   1  10   0]\n",
      " [  0 963   9  22   4   0   1   0   1   0]\n",
      " [ 16   4 757  13 154   2  50   0   4   0]\n",
      " [ 12  26   8 895  26   0  26   0   7   0]\n",
      " [  1   0 111  48 788   1  45   0   6   0]\n",
      " [  0   0   0   1   0 939   1  31   7  21]\n",
      " [163   3 139  79 130   0 477   0   9   0]\n",
      " [  0   0   0   0   0  39   0 889   3  69]\n",
      " [  6   0   6   5   7   6  17   4 949   0]\n",
      " [  0   0   0   0   0  21   0  16   1 962]]\n",
      "\n",
      "Test accuracy: 0.8426\n"
     ]
    }
   ],
   "source": [
    "testing_model(X_test, trained_parameters)"
   ]
  },
  {
   "cell_type": "markdown",
   "metadata": {
    "id": "X_yc31MTnA5f"
   },
   "source": [
    "**<span style=\"color:green\">Reference Results:</span>** <br>\n",
    "Test accuracy: 0.80 or better<br>"
   ]
  }
 ],
 "metadata": {
  "colab": {
   "provenance": []
  },
  "kernelspec": {
   "display_name": "Python 3 (ipykernel)",
   "language": "python",
   "name": "python3"
  },
  "language_info": {
   "codemirror_mode": {
    "name": "ipython",
    "version": 3
   },
   "file_extension": ".py",
   "mimetype": "text/x-python",
   "name": "python",
   "nbconvert_exporter": "python",
   "pygments_lexer": "ipython3",
   "version": "3.8.12"
  }
 },
 "nbformat": 4,
 "nbformat_minor": 1
}
